{
 "cells": [
  {
   "cell_type": "code",
   "execution_count": null,
   "metadata": {},
   "outputs": [],
   "source": [
    "from multiprocessing import Process, current_process             # chama a função \"Process\" do pacote multiprocessing....\n",
    "import itertools\n",
    "\n",
    "ITEMS = [1,2,3,4,5,6]\n",
    "\n",
    "def work(items):\n",
    "    for i in itertools.count():\n",
    "        try:\n",
    "         items.pop()\n",
    "        except IndexError:\n",
    "         break\n",
    "   print(current_process().name, \"processed %i items . \" %i)\n",
    "\n",
    "if __name__ == \"__main__\" :\n",
    "workers = [ Process (target = worker, args = (ITEMS, ) ) for i in range (3) ]\n",
    "for worker in workers :\n",
    "worker.start()\n",
    "for worker in workers :\n",
    "worker.join()\n",
    "print \"ITEMS after all workers finished : \" , ITEMS"
   ]
  }
 ],
 "metadata": {
  "kernelspec": {
   "display_name": "Python 3",
   "language": "python",
   "name": "python3"
  },
  "language_info": {
   "codemirror_mode": {
    "name": "ipython",
    "version": 3
   },
   "file_extension": ".py",
   "mimetype": "text/x-python",
   "name": "python",
   "nbconvert_exporter": "python",
   "pygments_lexer": "ipython3",
   "version": "3.6.4"
  }
 },
 "nbformat": 4,
 "nbformat_minor": 2
}
