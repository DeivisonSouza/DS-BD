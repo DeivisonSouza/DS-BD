{
 "cells": [
  {
   "cell_type": "markdown",
   "metadata": {},
   "source": [
    "# Programação Paralela"
   ]
  },
  {
   "cell_type": "markdown",
   "metadata": {},
   "source": [
    "## HELLO WORLD - BOB FILHO"
   ]
  },
  {
   "cell_type": "code",
   "execution_count": 1,
   "metadata": {},
   "outputs": [
    {
     "name": "stdout",
     "output_type": "stream",
     "text": [
      "hello bob filho\n",
      "DURING: <Process(Process-1, started)> True\n",
      "JOINED: <Process(Process-1, stopped)> False\n"
     ]
    }
   ],
   "source": [
    "from multiprocessing import Process           # chama apenas a função Process do pacote multiprocessing...\n",
    "\n",
    "def f(name):                                  # cria uma funçao \"f\" para imprimir \"hello + name\", cujo parâmetro da função é name\n",
    "  print('hello', name)                        # imprime resultado da função \"f\"...\n",
    "    \n",
    "if __name__ == '__main__':\n",
    "  #f(\"Deivison\")\n",
    "  p = Process(target=f, args=('bob filho', )) # primeiro processo: target (recebe a função \"f\"), args (recebe os argumentos da \"f\")\n",
    "  #print('BEFORE:', p, p.is_alive())\n",
    "\n",
    "  p.start()                                   # iniciar a execução do processo em \"p\"...\n",
    "  print('DURING:', p, p.is_alive())           #????\n",
    "\n",
    "  #p.terminate()                              # terminar um processo???\n",
    "  #print('TERMINATED:', p, p.is_alive())       #????\n",
    "    \n",
    "  p.join()                                    # junta explicitamente todos os processos iniciados e terminados...\n",
    "\n",
    "  print('JOINED:', p, p.is_alive())           #????\n",
    "\n",
    "# Process = cria um novo processo (um processo apenas).\n",
    "# target = destino é executar a funçao \"f\"...\n",
    "\n",
    "# multiprocessing:\n",
    "\n",
    "# 1) Vantagens: funciona em plataformas distintas (inclusive windows).\n",
    "\n",
    "# 2) Desvantagem: \n",
    "# perde em velocidade para as threads, porém executa os programas em diferentes núcleos da CPU;\n",
    "# mudanças em um processo não afetam o outro;\n",
    "# Algumas estruturas como o lambda não podem rodar em paralelo."
   ]
  },
  {
   "cell_type": "markdown",
   "metadata": {},
   "source": [
    "## HELLO WORLD - BOB FILHO e BOB PAI"
   ]
  },
  {
   "cell_type": "code",
   "execution_count": 2,
   "metadata": {},
   "outputs": [
    {
     "name": "stdout",
     "output_type": "stream",
     "text": [
      "hello bob pai\n",
      "hello bob filho\n"
     ]
    }
   ],
   "source": [
    "from multiprocessing import Process           # chama apenas a função Process do pacote multiprocessing...\n",
    "\n",
    "def f(name):                                  # cria uma função \"f\" para imprimir \"hello + name\", cujo parâmetro da função é name\n",
    "  print('hello', name)                        # imprime resultado da função \"f\"...\n",
    "\n",
    "if __name__ == '__main__':\n",
    "  p = Process(target=f, args=('bob filho', )) # primeiro processo: target (recebe a função \"f\"), args (recebe os argumentos da \"f\")\n",
    "\n",
    "  print('hello', 'bob pai')                   # segundo processo (processo original)\n",
    "\n",
    "  p.start()                                   # iniciar a execução do processo em \"p\"...\n",
    "  p.join()                                    # junta explicitamente todos os processos iniciados e terminados...\n",
    "\n",
    "# Note que temos 2 processos...\n",
    "# Process = cria um novo processo (um processo apenas).\n",
    "# target = destino é executar a funçao f..."
   ]
  },
  {
   "cell_type": "markdown",
   "metadata": {},
   "source": [
    "# HELLO WORLD - 4 x BOB FILHO e BOB PAI"
   ]
  },
  {
   "cell_type": "code",
   "execution_count": 3,
   "metadata": {},
   "outputs": [
    {
     "name": "stdout",
     "output_type": "stream",
     "text": [
      "Updated List:  [<Process(Process-3, initial)>]\n",
      "Updated List:  [<Process(Process-3, initial)>, <Process(Process-4, initial)>]\n",
      "Updated List:  [<Process(Process-3, initial)>, <Process(Process-4, initial)>, <Process(Process-5, initial)>]\n",
      "Updated List:  [<Process(Process-3, initial)>, <Process(Process-4, initial)>, <Process(Process-5, initial)>, <Process(Process-6, initial)>]\n",
      "hello bob pai\n",
      "hello bob filho 0\n",
      "hello bob filho 1\n",
      "hello bob filho 2\n",
      "hello bob filho 3\n"
     ]
    }
   ],
   "source": [
    "from multiprocessing import Process                 # chama apenas a função Process do pacote multiprocessing...\n",
    "def f(name, id):                                    # cria uma função para imprimir \"hello + name + id\", cujos parâmetros da função são \"name\" e \"id\".\n",
    "    print('hello', name, id)                        # imprime resultado da função...\n",
    "    \n",
    "if __name__ == '__main__':\n",
    "   procs = []                                       # cria uma lista vazia...\n",
    "\n",
    "   for i in range(4):                               # para cada variável de iteração \"i\" na sequência de 0 a 3 (com loop cria-se 4 novos processos)\n",
    "     p = Process(target=f, args=('bob filho', i, )) # primeiro processo: target (recebe a função), args (recebe os dois argumentos da função)\n",
    "     procs.append(p)                                # método: anexa o objeto \"p\" a lista \"procs\"...\n",
    "     print('Updated List: ', procs)                 # imprime atualização da lista? (inserção minha)...\n",
    "    \n",
    "   print('hello', 'bob pai')                        # Processo original...\n",
    "\n",
    "   for i in range(4):\n",
    "     procs[i].start()                               # iniciar a execução do processo em \"p\"...\n",
    "    \n",
    "   for i in range(4):\n",
    "     procs[i].join()                                # junta explicitamente todos os processos iniciados e terminados..."
   ]
  },
  {
   "cell_type": "markdown",
   "metadata": {},
   "source": [
    "## Para mostrar os IDs de processo individuais "
   ]
  },
  {
   "cell_type": "code",
   "execution_count": 4,
   "metadata": {},
   "outputs": [
    {
     "name": "stdout",
     "output_type": "stream",
     "text": [
      "main line\n",
      "module name: __main__\n",
      "parent process: 10481\n",
      "process id: 11512\n",
      "function f\n",
      "module name: __main__\n",
      "parent process: 11512\n",
      "process id: 11545\n",
      "hello bob\n"
     ]
    }
   ],
   "source": [
    "from multiprocessing import Process           # chama apenas a função Process do pacote multiprocessing...\n",
    "import os                                     # chama o pacote \"os\"...\n",
    "\n",
    "def info(title):                              # cria a função \"info\" para imprimir \"title\"...\n",
    "    print(title)                              # imprime argumento repassado para função \"info\"...\n",
    "    print('module name:', __name__)           # nome do \"módulo\"...\n",
    "    print('parent process:', os.getppid())    # número do processo \"pai\"...(get = obter)\n",
    "    print('process id:', os.getpid())         # número \"id\" do processo...\n",
    "\n",
    "def f(name):                                  # cria a função \"f\" para imprimir \"name\"...\n",
    "    info('function f')                        # usa função \"info\" dentro da função \"f\"...\n",
    "    print('hello', name)                      # imprime \"hello + name\". name = argumento da função \"f\"...\n",
    "\n",
    "if __name__ == '__main__':\n",
    "    info('main line')\n",
    "    p = Process(target=f, args=('bob',))      # processo: target = (recebe a função \"f\"), args (recebe o arg. da função \"f\")\n",
    "    p.start()                                 # iniciar a execução do processo em \"p\"...\n",
    "    p.join()                                  # junta explicitamente todos os processos iniciados e terminados..."
   ]
  },
  {
   "cell_type": "markdown",
   "metadata": {},
   "source": [
    "## PI PARALELO"
   ]
  },
  {
   "cell_type": "code",
   "execution_count": 5,
   "metadata": {
    "collapsed": true
   },
   "outputs": [
    {
     "name": "stdout",
     "output_type": "stream",
     "text": [
      "Start: 0.0\n",
      "End: 49999999.0\n"
     ]
    },
    {
     "name": "stderr",
     "output_type": "stream",
     "text": [
      "Process Process-8:\n"
     ]
    },
    {
     "name": "stdout",
     "output_type": "stream",
     "text": [
      "Start: 50000000.0\n",
      "End: 99999999.0\n"
     ]
    },
    {
     "name": "stderr",
     "output_type": "stream",
     "text": [
      "Process Process-9:\n",
      "Traceback (most recent call last):\n",
      "  File \"/home/deivison/anaconda3/lib/python3.6/multiprocessing/process.py\", line 258, in _bootstrap\n",
      "    self.run()\n",
      "  File \"/home/deivison/anaconda3/lib/python3.6/multiprocessing/process.py\", line 93, in run\n",
      "    self._target(*self._args, **self._kwargs)\n",
      "Traceback (most recent call last):\n",
      "  File \"<ipython-input-5-8f295d99ac0f>\", line 10, in pi\n",
      "    for i in range(start, end):\n",
      "  File \"/home/deivison/anaconda3/lib/python3.6/multiprocessing/process.py\", line 258, in _bootstrap\n",
      "    self.run()\n",
      "  File \"/home/deivison/anaconda3/lib/python3.6/multiprocessing/process.py\", line 93, in run\n",
      "    self._target(*self._args, **self._kwargs)\n",
      "TypeError: 'float' object cannot be interpreted as an integer\n",
      "  File \"<ipython-input-5-8f295d99ac0f>\", line 10, in pi\n",
      "    for i in range(start, end):\n",
      "TypeError: 'float' object cannot be interpreted as an integer\n"
     ]
    },
    {
     "name": "stdout",
     "output_type": "stream",
     "text": [
      "Pi: 0.01945591 s\n"
     ]
    }
   ],
   "source": [
    "from multiprocessing import Process, Queue\n",
    "import time\n",
    "\n",
    "PROCS = 2\n",
    "def pi(start, end, step):\n",
    "    print('Start: ' + str(start))\n",
    "    print('End: ' + str(end))\n",
    "    sum = 0.0\n",
    "    \n",
    "    for i in range(start, end):\n",
    "      x = (i+0.5) * step\n",
    "      sum = sum + 4.0/(1.0+x*x)\n",
    "    print(sum)\n",
    "    \n",
    "if __name__ == \"__main__\":\n",
    "    num_steps = 100000000         #100.000.000\n",
    "    sum = 0.0\n",
    "    step = 1.0/num_steps\n",
    "    proc_size = num_steps / PROCS\n",
    "    \n",
    "    tic = time.time()\n",
    "    \n",
    "    workers = []\n",
    "    for i in range(PROCS):\n",
    "      worker = Process(target=pi, args=(i*proc_size, (i+1)*proc_size - 1, step, ))\n",
    "      workers.append(worker)\n",
    "        \n",
    "    for worker in workers:\n",
    "      worker.start()\n",
    "\n",
    "    for worker in workers :\n",
    "      worker.join()\n",
    "      toc = time.time()\n",
    "    print(\"Pi: %.8f s\" %(toc-tic))\n",
    "    "
   ]
  },
  {
   "cell_type": "markdown",
   "metadata": {},
   "source": [
    "# # Tarefa - Pi Paralelo"
   ]
  },
  {
   "cell_type": "code",
   "execution_count": null,
   "metadata": {},
   "outputs": [],
   "source": []
  },
  {
   "cell_type": "code",
   "execution_count": 6,
   "metadata": {},
   "outputs": [
    {
     "name": "stdout",
     "output_type": "stream",
     "text": [
      "Worker\n",
      "Worker\n",
      "Worker\n",
      "Worker\n",
      "Worker\n"
     ]
    }
   ],
   "source": [
    "def worker():\n",
    "    \"\"\"worker function\"\"\"\n",
    "    print('Worker')\n",
    "\n",
    "if __name__ == '__main__':\n",
    "    jobs = []\n",
    "    for i in range(5):\n",
    "        p = Process(target=worker)\n",
    "        jobs.append(p)\n",
    "        p.start()"
   ]
  },
  {
   "cell_type": "code",
   "execution_count": 7,
   "metadata": {},
   "outputs": [
    {
     "name": "stdout",
     "output_type": "stream",
     "text": [
      "Worker: 0\n",
      "Worker: 1\n",
      "Worker: 2\n",
      "Worker: 3\n",
      "Worker: 4\n"
     ]
    }
   ],
   "source": [
    "def worker(num):\n",
    "    \"\"\"thread worker function\"\"\"\n",
    "    print('Worker:', num)\n",
    "\n",
    "\n",
    "if __name__ == '__main__':\n",
    "    jobs = []\n",
    "    for i in range(5):\n",
    "        p = Process(target=worker, args=(i,))\n",
    "        jobs.append(p)\n",
    "        p.start()"
   ]
  }
 ],
 "metadata": {
  "kernelspec": {
   "display_name": "Python 3",
   "language": "python",
   "name": "python3"
  },
  "language_info": {
   "codemirror_mode": {
    "name": "ipython",
    "version": 3
   },
   "file_extension": ".py",
   "mimetype": "text/x-python",
   "name": "python",
   "nbconvert_exporter": "python",
   "pygments_lexer": "ipython3",
   "version": "3.6.4"
  }
 },
 "nbformat": 4,
 "nbformat_minor": 2
}
