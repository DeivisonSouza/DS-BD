{
 "cells": [
  {
   "cell_type": "markdown",
   "metadata": {},
   "source": [
    "# Tarefa - Pi Paralelo"
   ]
  },
  {
   "cell_type": "markdown",
   "metadata": {},
   "source": [
    "# Inicialmente, o cálculo do Pi Sequencial..."
   ]
  },
  {
   "cell_type": "code",
   "execution_count": 7,
   "metadata": {},
   "outputs": [
    {
     "name": "stdout",
     "output_type": "stream",
     "text": [
      "Pi: 3.1415926536\n",
      "Tempo: 17.06088996 s\n"
     ]
    }
   ],
   "source": [
    "# Meu código p/ calcular o Pi...\n",
    "import time\n",
    "\n",
    "num_passos = 100000000                   # define o número de passos...\n",
    "passos = 1.0/num_passos                  # define o tamanho do passo...\n",
    "sum = 0.0                                # ????????\n",
    "\n",
    "tic = time.time()\n",
    "for i in range(num_passos):              # Inicio do loop \"for\". A variável de iteração é: num_passos...\n",
    "  x = (i + 0.5)*passos                   # i + 0.5 (Para que o início do passo seja em 0,5). Multiplica pelo tamanho do passo p/ saber até onde irá cada passo (limite inferior e superior do retângulo)\n",
    "  sum += 4.0/(1.0 + x*x)                 # Calcula a F(x) = altura dos retângulos...??? \n",
    "sum = sum*passos                         # Multiplica as alturas pelo tamanho do passo...????\n",
    "toc = time.time()\n",
    "\n",
    "print(\"Pi: %.10f\" %(sum))\n",
    "print(\"Tempo: %.8f s\" %(toc-tic))"
   ]
  },
  {
   "cell_type": "code",
   "execution_count": 4,
   "metadata": {},
   "outputs": [
    {
     "name": "stdout",
     "output_type": "stream",
     "text": [
      "Start: 0.0\n",
      "Final: 100000000\n",
      "Passo: 1e-08\n",
      "Pi: 3.1415926536\n",
      "Tempo: 10.10819912 s\n"
     ]
    }
   ],
   "source": [
    "# Meu código p/ calcular o Pi (expresso na forma de função)...\n",
    "import time\n",
    "\n",
    "def pi(inicio, num_passos, passo):\n",
    "    print(\"Start: \" + str(inicio))\n",
    "    print(\"Final: \" + str(num_passos))\n",
    "    print(\"Passo: \" + str(passos))\n",
    "    sum = 0.0\n",
    "    \n",
    "    for i in range(num_passos):\n",
    "      x = (i + 0.5)*passo\n",
    "      sum += 4.0/(1.0 + x*x)                   #(operador: mais igual = valor a esquerda do sinal de atribuição será somado com o valor a direita e o resultado dessa operação, será atribuido à variável a esquerda do sinal de atribuição.)\n",
    "    sum = sum * passo\n",
    "    return(sum)\n",
    "\n",
    "tic = time.time()\n",
    "print(\"Pi: %.10f\" %(pi(0.0, 100000000, 1e-08)))\n",
    "toc = time.time()\n",
    "\n",
    "print(\"Tempo: %.8f s\" %(toc-tic))"
   ]
  },
  {
   "cell_type": "code",
   "execution_count": 8,
   "metadata": {},
   "outputs": [
    {
     "name": "stdout",
     "output_type": "stream",
     "text": [
      "Start: 0\n",
      "End: 100000000\n",
      "Step: 1e-08\n",
      "Pi: 3.1415926536\n",
      "Time: 9.84950662 s\n"
     ]
    }
   ],
   "source": [
    "# Código Prof. Zanata\n",
    "import time\n",
    "\n",
    "def pi(start, end, step):\n",
    "    print(\"Start: \" + str(start))\n",
    "    print(\"End: \" + str(end))\n",
    "    print(\"Step: \" + str(step))\n",
    "    sum = 0.0\n",
    "    \n",
    "    for i in range(start, end):\n",
    "      x = (i+0.5) * step\n",
    "      sum = sum + 4.0/(1.0+x*x)                  # produz o mesmo efeito que usar o operador: +=\n",
    "    return(sum)\n",
    "\n",
    "if __name__ == \"__main__\":\n",
    "    num_steps = 100000000            #100.000.000\n",
    "    sums = 0.0\n",
    "    step = 1.0/num_steps\n",
    "    \n",
    "    tic = time.time()\n",
    "    sums = pi(0, num_steps, step)\n",
    "    toc = time.time()\n",
    "    \n",
    "    pi = step * sums\n",
    "    \n",
    "    print(\"Pi: %.10f\" %(pi))\n",
    "    print(\"Time: %.8f s\" %(toc-tic))"
   ]
  },
  {
   "cell_type": "markdown",
   "metadata": {},
   "source": [
    "## Agora, Pi - Paralelo..."
   ]
  },
  {
   "cell_type": "code",
   "execution_count": 17,
   "metadata": {},
   "outputs": [
    {
     "name": "stdout",
     "output_type": "stream",
     "text": [
      "Start: 0.0\n",
      "End: 49999999.0\n",
      "Start: 50000000.0\n",
      "End: 99999999.0\n"
     ]
    },
    {
     "name": "stderr",
     "output_type": "stream",
     "text": [
      "Process Process-36:\n",
      "Traceback (most recent call last):\n",
      "  File \"/home/deivison/anaconda3/lib/python3.6/multiprocessing/process.py\", line 258, in _bootstrap\n",
      "    self.run()\n",
      "  File \"/home/deivison/anaconda3/lib/python3.6/multiprocessing/process.py\", line 93, in run\n",
      "    self._target(*self._args, **self._kwargs)\n",
      "  File \"<ipython-input-17-88d5198b4b7b>\", line 12, in pi\n",
      "    for i in range(start, end):\n",
      "TypeError: 'float' object cannot be interpreted as an integer\n",
      "Process Process-35:\n",
      "Traceback (most recent call last):\n",
      "  File \"/home/deivison/anaconda3/lib/python3.6/multiprocessing/process.py\", line 258, in _bootstrap\n",
      "    self.run()\n",
      "  File \"/home/deivison/anaconda3/lib/python3.6/multiprocessing/process.py\", line 93, in run\n",
      "    self._target(*self._args, **self._kwargs)\n",
      "  File \"<ipython-input-17-88d5198b4b7b>\", line 12, in pi\n",
      "    for i in range(start, end):\n",
      "TypeError: 'float' object cannot be interpreted as an integer\n"
     ]
    },
    {
     "name": "stdout",
     "output_type": "stream",
     "text": [
      "Pi: 0.02230096 s\n"
     ]
    }
   ],
   "source": [
    "# Código do professor (Zanatta)\n",
    "from multiprocessing import Process, Queue\n",
    "import time\n",
    "\n",
    "PROCS = 2\n",
    "\n",
    "def pi(start, end, step):\n",
    "    print(\"Start: \" + str(start))\n",
    "    print(\"End: \" + str(end))\n",
    "    sum = 0.0\n",
    "\n",
    "    for i in range(start, end):\n",
    "      x = (i+0.5) * step                       \n",
    "      sum = sum + 4.0/(1.0+x*x)                \n",
    "    print(sum)\n",
    "    \n",
    "if __name__ == \"__main__\":\n",
    "    num_steps = 100000000        #100.000.000\n",
    "    sum = 0.0\n",
    "    step = 1.0/num_steps\n",
    "    proc_size = num_steps/PROCS\n",
    "    tic = time.time()\n",
    "    workers = []\n",
    "\n",
    "    for i in range(PROCS):\n",
    "      worker = Process(target=pi, args=(i*proc_size, (i+1)*proc_size - 1, step, ))\n",
    "      workers.append(worker)\n",
    "\n",
    "    for worker in workers :\n",
    "      worker.start()\n",
    "\n",
    "    for worker in workers :\n",
    "      worker.join()\n",
    "\n",
    "    toc = time.time()\n",
    "    print(\"Pi: %.8f s\" %(toc-tic))"
   ]
  },
  {
   "cell_type": "markdown",
   "metadata": {},
   "source": [
    "## Pi Paralelo - Deivison"
   ]
  },
  {
   "cell_type": "code",
   "execution_count": 18,
   "metadata": {},
   "outputs": [
    {
     "name": "stdout",
     "output_type": "stream",
     "text": [
      "Inicio: 0.0\n",
      "Inicio: 20000000.0\n",
      "Final: 19999999.0\n",
      "Passo: 1e-08\n"
     ]
    },
    {
     "name": "stderr",
     "output_type": "stream",
     "text": [
      "Process Process-37:\n"
     ]
    },
    {
     "name": "stdout",
     "output_type": "stream",
     "text": [
      "Final: 39999999.0\n"
     ]
    },
    {
     "name": "stderr",
     "output_type": "stream",
     "text": [
      "Traceback (most recent call last):\n"
     ]
    },
    {
     "name": "stdout",
     "output_type": "stream",
     "text": [
      "Inicio: 40000000.0\n",
      "Passo: 1e-08\n"
     ]
    },
    {
     "name": "stderr",
     "output_type": "stream",
     "text": [
      "  File \"/home/deivison/anaconda3/lib/python3.6/multiprocessing/process.py\", line 258, in _bootstrap\n",
      "    self.run()\n"
     ]
    },
    {
     "name": "stdout",
     "output_type": "stream",
     "text": [
      "Final: 59999999.0\n"
     ]
    },
    {
     "name": "stderr",
     "output_type": "stream",
     "text": [
      "  File \"/home/deivison/anaconda3/lib/python3.6/multiprocessing/process.py\", line 93, in run\n",
      "    self._target(*self._args, **self._kwargs)\n"
     ]
    },
    {
     "name": "stdout",
     "output_type": "stream",
     "text": [
      "Passo: 1e-08\n",
      "Inicio: 60000000.0\n"
     ]
    },
    {
     "name": "stderr",
     "output_type": "stream",
     "text": [
      "Process Process-38:\n",
      "  File \"<ipython-input-18-cbc0eebae93c>\", line 13, in pi\n",
      "    for i in range(num_passos):                  # loop for: Inicio do loop sobre o número de passos...\n",
      "  File \"/home/deivison/anaconda3/lib/python3.6/multiprocessing/process.py\", line 258, in _bootstrap\n",
      "    self.run()\n",
      "Process Process-39:\n"
     ]
    },
    {
     "name": "stdout",
     "output_type": "stream",
     "text": [
      "Final: 79999999.0\n"
     ]
    },
    {
     "name": "stderr",
     "output_type": "stream",
     "text": [
      "Traceback (most recent call last):\n"
     ]
    },
    {
     "name": "stdout",
     "output_type": "stream",
     "text": [
      "Passo: 1e-08\n"
     ]
    },
    {
     "name": "stderr",
     "output_type": "stream",
     "text": [
      "Traceback (most recent call last):\n",
      "  File \"/home/deivison/anaconda3/lib/python3.6/multiprocessing/process.py\", line 258, in _bootstrap\n",
      "    self.run()\n",
      "Process Process-40:\n",
      "  File \"/home/deivison/anaconda3/lib/python3.6/multiprocessing/process.py\", line 93, in run\n",
      "    self._target(*self._args, **self._kwargs)\n",
      "TypeError: 'float' object cannot be interpreted as an integer\n"
     ]
    },
    {
     "name": "stdout",
     "output_type": "stream",
     "text": [
      "Inicio: 80000000.0\n"
     ]
    },
    {
     "name": "stderr",
     "output_type": "stream",
     "text": [
      "  File \"/home/deivison/anaconda3/lib/python3.6/multiprocessing/process.py\", line 93, in run\n",
      "    self._target(*self._args, **self._kwargs)\n",
      "  File \"<ipython-input-18-cbc0eebae93c>\", line 13, in pi\n",
      "    for i in range(num_passos):                  # loop for: Inicio do loop sobre o número de passos...\n",
      "Traceback (most recent call last):\n",
      "  File \"<ipython-input-18-cbc0eebae93c>\", line 13, in pi\n",
      "    for i in range(num_passos):                  # loop for: Inicio do loop sobre o número de passos...\n"
     ]
    },
    {
     "name": "stdout",
     "output_type": "stream",
     "text": [
      "Final: 99999999.0\n"
     ]
    },
    {
     "name": "stderr",
     "output_type": "stream",
     "text": [
      "TypeError: 'float' object cannot be interpreted as an integer\n"
     ]
    },
    {
     "name": "stdout",
     "output_type": "stream",
     "text": [
      "Passo: 1e-08\n"
     ]
    },
    {
     "name": "stderr",
     "output_type": "stream",
     "text": [
      "  File \"/home/deivison/anaconda3/lib/python3.6/multiprocessing/process.py\", line 258, in _bootstrap\n",
      "    self.run()\n",
      "TypeError: 'float' object cannot be interpreted as an integer\n",
      "  File \"/home/deivison/anaconda3/lib/python3.6/multiprocessing/process.py\", line 93, in run\n",
      "    self._target(*self._args, **self._kwargs)\n",
      "Process Process-41:\n",
      "  File \"<ipython-input-18-cbc0eebae93c>\", line 13, in pi\n",
      "    for i in range(num_passos):                  # loop for: Inicio do loop sobre o número de passos...\n",
      "Traceback (most recent call last):\n",
      "  File \"/home/deivison/anaconda3/lib/python3.6/multiprocessing/process.py\", line 258, in _bootstrap\n",
      "    self.run()\n",
      "TypeError: 'float' object cannot be interpreted as an integer\n",
      "  File \"/home/deivison/anaconda3/lib/python3.6/multiprocessing/process.py\", line 93, in run\n",
      "    self._target(*self._args, **self._kwargs)\n",
      "  File \"<ipython-input-18-cbc0eebae93c>\", line 13, in pi\n",
      "    for i in range(num_passos):                  # loop for: Inicio do loop sobre o número de passos...\n",
      "TypeError: 'float' object cannot be interpreted as an integer\n"
     ]
    },
    {
     "name": "stdout",
     "output_type": "stream",
     "text": [
      "Tempo: 0.02907634 s\n"
     ]
    }
   ],
   "source": [
    "# Meu código p/ calcular o Pi Paralelo...\n",
    "from multiprocessing import Process\n",
    "import time\n",
    "\n",
    "PROCS = 5\n",
    "\n",
    "def pi(inicio, num_passos, passo):\n",
    "    print(\"Inicio: \" + str(inicio))              # imprime: ponto de partida do cálculo...\n",
    "    print(\"Final: \" + str(num_passos))           # imprime: número total de passos...\n",
    "    print(\"Passo: \" + str(passo))                # imprime: tamanho do passo...\n",
    "    sum = 0.0                                    \n",
    "\n",
    "    for i in range(num_passos):                  # loop for: Inicio do loop sobre o número de passos...\n",
    "      x = (i + 0.5)*passo                        # define o início do primeiro passo em (i+0,5)...\n",
    "      sum += 4.0/(1.0 + x*x)                  \n",
    "    sum = sum * passo\n",
    "\n",
    "    print(\"Pi: %.10f\" %(sum))                     #retorna área acumulada ao final de cada processo...\n",
    "\n",
    "if __name__ == \"__main__\":\n",
    "    num_passos = 100000000\n",
    "    sum = 0.0\n",
    "    passo = 1.0/num_passos\n",
    "    proc_size = num_passos/PROCS                  #divide a quantidade de passos pelo número de processos...\n",
    "    \n",
    "    tic = time.time()\n",
    "    workers = []\n",
    "\n",
    "    for i in range(PROCS):\n",
    "      worker = Process(target=pi, args=(i*proc_size, (i+1)*proc_size - 1, passo, )) # função process: target recebe a função \"pi\" e args os parâmetros da função \"pi\"\n",
    "      workers.append(worker)\n",
    "\n",
    "    for worker in workers :                        # loop for: iniciar a execução dos processos em \"worker\"...\n",
    "      worker.start()\n",
    "\n",
    "    for worker in workers :                        # loop for: junta explicitamente todos os processos iniciados e terminados...\n",
    "      worker.join()\n",
    "    \n",
    "    toc = time.time()\n",
    "    \n",
    "    print(\"Tempo: %.8f s\" %(toc-tic))              # imprime: tempo de execução"
   ]
  }
 ],
 "metadata": {
  "kernelspec": {
   "display_name": "Python 3",
   "language": "python",
   "name": "python3"
  },
  "language_info": {
   "codemirror_mode": {
    "name": "ipython",
    "version": 3
   },
   "file_extension": ".py",
   "mimetype": "text/x-python",
   "name": "python",
   "nbconvert_exporter": "python",
   "pygments_lexer": "ipython3",
   "version": "3.6.4"
  }
 },
 "nbformat": 4,
 "nbformat_minor": 2
}
