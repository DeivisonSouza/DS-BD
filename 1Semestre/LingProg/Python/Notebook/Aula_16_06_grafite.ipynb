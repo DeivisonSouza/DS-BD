{
 "cells": [
  {
   "cell_type": "markdown",
   "metadata": {},
   "source": [
    "# Formatos de arquivos comuns"
   ]
  },
  {
   "cell_type": "markdown",
   "metadata": {},
   "source": [
    "-Arquivos CSV;\n",
    "- O módulo CSV\n",
    "\n",
    "Ao importar o módulo \"csv\" temos classes para manusear arquivps com este formato. Algumas funções:\n",
    "\n",
    "csv.reader(arquivo, dialect='x', **fmtparams)\n",
    "\n",
    "csv.list_dialect"
   ]
  },
  {
   "cell_type": "code",
   "execution_count": 27,
   "metadata": {
    "collapsed": true
   },
   "outputs": [
    {
     "ename": "ValueError",
     "evalue": "Some errors were detected !\n    Line #2 (got 10 columns instead of 9)\n    Line #3 (got 10 columns instead of 9)\n    Line #4 (got 10 columns instead of 9)\n    Line #5 (got 10 columns instead of 9)\n    Line #6 (got 10 columns instead of 9)\n    Line #7 (got 10 columns instead of 9)\n    Line #8 (got 10 columns instead of 9)\n    Line #9 (got 10 columns instead of 9)\n    Line #10 (got 10 columns instead of 9)\n    Line #11 (got 10 columns instead of 9)\n    Line #12 (got 10 columns instead of 9)\n    Line #13 (got 10 columns instead of 9)\n    Line #14 (got 10 columns instead of 9)\n    Line #15 (got 10 columns instead of 9)\n    Line #16 (got 10 columns instead of 9)\n    Line #17 (got 10 columns instead of 9)\n    Line #18 (got 10 columns instead of 9)\n    Line #19 (got 10 columns instead of 9)\n    Line #20 (got 10 columns instead of 9)\n    Line #21 (got 10 columns instead of 9)\n    Line #22 (got 11 columns instead of 9)\n    Line #23 (got 10 columns instead of 9)\n    Line #24 (got 10 columns instead of 9)\n    Line #25 (got 11 columns instead of 9)\n    Line #26 (got 10 columns instead of 9)",
     "output_type": "error",
     "traceback": [
      "\u001b[0;31m---------------------------------------------------------------------------\u001b[0m",
      "\u001b[0;31mValueError\u001b[0m                                Traceback (most recent call last)",
      "\u001b[0;32m<ipython-input-27-368dbacd7227>\u001b[0m in \u001b[0;36m<module>\u001b[0;34m()\u001b[0m\n\u001b[1;32m      1\u001b[0m \u001b[0;32mimport\u001b[0m \u001b[0mnumpy\u001b[0m \u001b[0;32mas\u001b[0m \u001b[0mnp\u001b[0m\u001b[0;34m\u001b[0m\u001b[0m\n\u001b[1;32m      2\u001b[0m \u001b[0;34m\u001b[0m\u001b[0m\n\u001b[0;32m----> 3\u001b[0;31m \u001b[0mgrafite1\u001b[0m \u001b[0;34m=\u001b[0m \u001b[0mnp\u001b[0m\u001b[0;34m.\u001b[0m\u001b[0mgenfromtxt\u001b[0m\u001b[0;34m(\u001b[0m\u001b[0;34m'Graffiti_Sites.csv'\u001b[0m\u001b[0;34m,\u001b[0m \u001b[0mdelimiter\u001b[0m\u001b[0;34m=\u001b[0m\u001b[0;34m\",\"\u001b[0m\u001b[0;34m,\u001b[0m \u001b[0mnames\u001b[0m\u001b[0;34m=\u001b[0m\u001b[0;32mTrue\u001b[0m\u001b[0;34m)\u001b[0m\u001b[0;34m\u001b[0m\u001b[0m\n\u001b[0m\u001b[1;32m      4\u001b[0m \u001b[0mprint\u001b[0m\u001b[0;34m(\u001b[0m\u001b[0mgrafite1\u001b[0m\u001b[0;34m)\u001b[0m\u001b[0;34m\u001b[0m\u001b[0m\n\u001b[1;32m      5\u001b[0m \u001b[0mprint\u001b[0m\u001b[0;34m(\u001b[0m\u001b[0mtype\u001b[0m\u001b[0;34m(\u001b[0m\u001b[0mgrafite1\u001b[0m\u001b[0;34m)\u001b[0m\u001b[0;34m)\u001b[0m\u001b[0;34m\u001b[0m\u001b[0m\n",
      "\u001b[0;32m~/anaconda3/lib/python3.6/site-packages/numpy/lib/npyio.py\u001b[0m in \u001b[0;36mgenfromtxt\u001b[0;34m(fname, dtype, comments, delimiter, skip_header, skip_footer, converters, missing_values, filling_values, usecols, names, excludelist, deletechars, replace_space, autostrip, case_sensitive, defaultfmt, unpack, usemask, loose, invalid_raise, max_rows, encoding)\u001b[0m\n\u001b[1;32m   2012\u001b[0m             \u001b[0;31m# Raise an exception ?\u001b[0m\u001b[0;34m\u001b[0m\u001b[0;34m\u001b[0m\u001b[0m\n\u001b[1;32m   2013\u001b[0m             \u001b[0;32mif\u001b[0m \u001b[0minvalid_raise\u001b[0m\u001b[0;34m:\u001b[0m\u001b[0;34m\u001b[0m\u001b[0m\n\u001b[0;32m-> 2014\u001b[0;31m                 \u001b[0;32mraise\u001b[0m \u001b[0mValueError\u001b[0m\u001b[0;34m(\u001b[0m\u001b[0merrmsg\u001b[0m\u001b[0;34m)\u001b[0m\u001b[0;34m\u001b[0m\u001b[0m\n\u001b[0m\u001b[1;32m   2015\u001b[0m             \u001b[0;31m# Issue a warning ?\u001b[0m\u001b[0;34m\u001b[0m\u001b[0;34m\u001b[0m\u001b[0m\n\u001b[1;32m   2016\u001b[0m             \u001b[0;32melse\u001b[0m\u001b[0;34m:\u001b[0m\u001b[0;34m\u001b[0m\u001b[0m\n",
      "\u001b[0;31mValueError\u001b[0m: Some errors were detected !\n    Line #2 (got 10 columns instead of 9)\n    Line #3 (got 10 columns instead of 9)\n    Line #4 (got 10 columns instead of 9)\n    Line #5 (got 10 columns instead of 9)\n    Line #6 (got 10 columns instead of 9)\n    Line #7 (got 10 columns instead of 9)\n    Line #8 (got 10 columns instead of 9)\n    Line #9 (got 10 columns instead of 9)\n    Line #10 (got 10 columns instead of 9)\n    Line #11 (got 10 columns instead of 9)\n    Line #12 (got 10 columns instead of 9)\n    Line #13 (got 10 columns instead of 9)\n    Line #14 (got 10 columns instead of 9)\n    Line #15 (got 10 columns instead of 9)\n    Line #16 (got 10 columns instead of 9)\n    Line #17 (got 10 columns instead of 9)\n    Line #18 (got 10 columns instead of 9)\n    Line #19 (got 10 columns instead of 9)\n    Line #20 (got 10 columns instead of 9)\n    Line #21 (got 10 columns instead of 9)\n    Line #22 (got 11 columns instead of 9)\n    Line #23 (got 10 columns instead of 9)\n    Line #24 (got 10 columns instead of 9)\n    Line #25 (got 11 columns instead of 9)\n    Line #26 (got 10 columns instead of 9)"
     ]
    }
   ],
   "source": [
    "import numpy as np\n",
    "\n",
    "grafite1 = np.genfromtxt('Graffiti_Sites.csv', delimiter=\",\", names=True)\n",
    "print(grafite1)\n",
    "print(type(grafite1))"
   ]
  },
  {
   "cell_type": "code",
   "execution_count": 28,
   "metadata": {},
   "outputs": [
    {
     "data": {
      "text/html": [
       "<div>\n",
       "<style scoped>\n",
       "    .dataframe tbody tr th:only-of-type {\n",
       "        vertical-align: middle;\n",
       "    }\n",
       "\n",
       "    .dataframe tbody tr th {\n",
       "        vertical-align: top;\n",
       "    }\n",
       "\n",
       "    .dataframe thead th {\n",
       "        text-align: right;\n",
       "    }\n",
       "</style>\n",
       "<table border=\"1\" class=\"dataframe\">\n",
       "  <thead>\n",
       "    <tr style=\"text-align: right;\">\n",
       "      <th></th>\n",
       "      <th>REGION</th>\n",
       "      <th>SUBURB</th>\n",
       "      <th>LOCATION</th>\n",
       "      <th>TYPE</th>\n",
       "      <th>SURFACE</th>\n",
       "      <th>IMAGE_LINK</th>\n",
       "      <th>Location 1</th>\n",
       "      <th>LATITUDE</th>\n",
       "      <th>LONGITUDE</th>\n",
       "    </tr>\n",
       "  </thead>\n",
       "  <tbody>\n",
       "    <tr>\n",
       "      <th>0</th>\n",
       "      <td>Belconnen</td>\n",
       "      <td>Kaleen</td>\n",
       "      <td>Maribrynong Ave Underpass Between Tyrrell And ...</td>\n",
       "      <td>Underpass Walls</td>\n",
       "      <td>Concrete</td>\n",
       "      <td>http://www.abc.net.au/reslib/201405/r1279159_1...</td>\n",
       "      <td>(-35.22213891484769, 149.1111269309649)</td>\n",
       "      <td>-35.222139</td>\n",
       "      <td>149.111127</td>\n",
       "    </tr>\n",
       "    <tr>\n",
       "      <th>1</th>\n",
       "      <td>Belconnen</td>\n",
       "      <td>Melba</td>\n",
       "      <td>Old Depot Wall South Facing Tenis Court</td>\n",
       "      <td>Old Depot Building</td>\n",
       "      <td>Brick</td>\n",
       "      <td>http://www.abc.net.au/reslib/201405/r1279159_1...</td>\n",
       "      <td>(-35.214225153760957, 149.05274050900337)</td>\n",
       "      <td>-35.214225</td>\n",
       "      <td>149.052741</td>\n",
       "    </tr>\n",
       "    <tr>\n",
       "      <th>2</th>\n",
       "      <td>Belconnen</td>\n",
       "      <td>Belconnen</td>\n",
       "      <td>Lake Ginninderra Bridge West</td>\n",
       "      <td>Underbridge</td>\n",
       "      <td>Concrete</td>\n",
       "      <td>http://www.abc.net.au/reslib/201405/r1279159_1...</td>\n",
       "      <td>(-35.22892756879682, 149.07646363655954)</td>\n",
       "      <td>-35.228928</td>\n",
       "      <td>149.076464</td>\n",
       "    </tr>\n",
       "    <tr>\n",
       "      <th>3</th>\n",
       "      <td>Tuggeranong</td>\n",
       "      <td>Isabella Plains</td>\n",
       "      <td>Road Bridge Narooma St</td>\n",
       "      <td>Underpass</td>\n",
       "      <td>Concrete</td>\n",
       "      <td>http://www.abc.net.au/reslib/201405/r1279159_1...</td>\n",
       "      <td>(-35.428739900105967, 149.0865929168742)</td>\n",
       "      <td>-35.428740</td>\n",
       "      <td>149.086593</td>\n",
       "    </tr>\n",
       "    <tr>\n",
       "      <th>4</th>\n",
       "      <td>Gungahlin</td>\n",
       "      <td>Nicholls</td>\n",
       "      <td>Kelleway Ave Underpass</td>\n",
       "      <td>Underpass Walls</td>\n",
       "      <td>Concrete</td>\n",
       "      <td>http://www.abc.net.au/reslib/201405/r1279159_1...</td>\n",
       "      <td>(-35.178530385800101, 149.10598514662763)</td>\n",
       "      <td>-35.178530</td>\n",
       "      <td>149.105985</td>\n",
       "    </tr>\n",
       "  </tbody>\n",
       "</table>\n",
       "</div>"
      ],
      "text/plain": [
       "        REGION           SUBURB  \\\n",
       "0    Belconnen           Kaleen   \n",
       "1    Belconnen            Melba   \n",
       "2    Belconnen        Belconnen   \n",
       "3  Tuggeranong  Isabella Plains   \n",
       "4    Gungahlin         Nicholls   \n",
       "\n",
       "                                            LOCATION                TYPE  \\\n",
       "0  Maribrynong Ave Underpass Between Tyrrell And ...     Underpass Walls   \n",
       "1            Old Depot Wall South Facing Tenis Court  Old Depot Building   \n",
       "2                       Lake Ginninderra Bridge West         Underbridge   \n",
       "3                             Road Bridge Narooma St           Underpass   \n",
       "4                             Kelleway Ave Underpass     Underpass Walls   \n",
       "\n",
       "    SURFACE                                         IMAGE_LINK  \\\n",
       "0  Concrete  http://www.abc.net.au/reslib/201405/r1279159_1...   \n",
       "1     Brick  http://www.abc.net.au/reslib/201405/r1279159_1...   \n",
       "2  Concrete  http://www.abc.net.au/reslib/201405/r1279159_1...   \n",
       "3  Concrete  http://www.abc.net.au/reslib/201405/r1279159_1...   \n",
       "4  Concrete  http://www.abc.net.au/reslib/201405/r1279159_1...   \n",
       "\n",
       "                                  Location 1   LATITUDE   LONGITUDE  \n",
       "0    (-35.22213891484769, 149.1111269309649) -35.222139  149.111127  \n",
       "1  (-35.214225153760957, 149.05274050900337) -35.214225  149.052741  \n",
       "2   (-35.22892756879682, 149.07646363655954) -35.228928  149.076464  \n",
       "3   (-35.428739900105967, 149.0865929168742) -35.428740  149.086593  \n",
       "4  (-35.178530385800101, 149.10598514662763) -35.178530  149.105985  "
      ]
     },
     "execution_count": 28,
     "metadata": {},
     "output_type": "execute_result"
    }
   ],
   "source": [
    "import pandas as pd\n",
    "grafite2 = pd.read_csv('Graffiti_Sites.csv', sep=',')\n",
    "grafite2.head()"
   ]
  },
  {
   "cell_type": "code",
   "execution_count": 54,
   "metadata": {},
   "outputs": [
    {
     "data": {
      "text/plain": [
       "<_io.TextIOWrapper name='Graffiti_Sites.csv' mode='r' encoding='UTF-8'>"
      ]
     },
     "execution_count": 54,
     "metadata": {},
     "output_type": "execute_result"
    }
   ],
   "source": [
    "import csv\n",
    "import numpy as np\n",
    "\n",
    "grafite3 = open('Graffiti_Sites.csv')\n",
    "grafite3"
   ]
  },
  {
   "cell_type": "code",
   "execution_count": 55,
   "metadata": {},
   "outputs": [
    {
     "data": {
      "text/plain": [
       "<_csv.reader at 0x7f5a55eb2278>"
      ]
     },
     "execution_count": 55,
     "metadata": {},
     "output_type": "execute_result"
    }
   ],
   "source": [
    "grafite3 = csv.reader(grafite3)\n",
    "grafite3"
   ]
  },
  {
   "cell_type": "code",
   "execution_count": 58,
   "metadata": {
    "collapsed": true
   },
   "outputs": [
    {
     "name": "stdout",
     "output_type": "stream",
     "text": [
      "[['Belconnen', 'Kaleen', 'Maribrynong Ave Underpass Between Tyrrell And Moruya', 'Underpass Walls', 'Concrete', 'http://www.abc.net.au/reslib/201405/r1279159_17306753.jpg', '(-35.22213891484769, 149.1111269309649)', '-35.22213891484769', '149.1111269309649'], ['Belconnen', 'Melba', 'Old Depot Wall South Facing Tenis Court', 'Old Depot Building', 'Brick', 'http://www.abc.net.au/reslib/201405/r1279159_17306753.jpg', '(-35.214225153760957, 149.05274050900337)', '-35.214225153760957', '149.05274050900337'], ['Belconnen', 'Belconnen', 'Lake Ginninderra Bridge West', 'Underbridge', 'Concrete', 'http://www.abc.net.au/reslib/201405/r1279159_17306753.jpg', '(-35.22892756879682, 149.07646363655954)', '-35.22892756879682', '149.07646363655954'], ['Tuggeranong', 'Isabella Plains', 'Road Bridge Narooma St', 'Underpass', 'Concrete', 'http://www.abc.net.au/reslib/201405/r1279159_17306753.jpg', '(-35.428739900105967, 149.0865929168742)', '-35.428739900105967', '149.0865929168742'], ['Gungahlin', 'Nicholls', 'Kelleway Ave Underpass', 'Underpass Walls', 'Concrete', 'http://www.abc.net.au/reslib/201405/r1279159_17306753.jpg', '(-35.178530385800101, 149.10598514662763)', '-35.178530385800101', '149.10598514662763'], ['Gungahlin', 'Forde', 'Handbury Way Underpass', 'Underpass', 'Concrete', 'http://www.abc.net.au/reslib/201405/r1279159_17306753.jpg', '(-35.158836547443805, 149.14939582547029)', '-35.158836547443805', '149.14939582547029'], ['Weston Creek', 'Holder', 'Cotter Road Cycle Underpass', 'Underpass', 'Concete', 'http://www.abc.net.au/reslib/201405/r1279159_17306753.jpg', '(-35.327229802407501, 149.05127453591766)', '-35.327229802407501', '149.05127453591766'], ['Tuggeranong', 'Isabella Plains', 'Ashley Drive At Tuggeranong Creek', 'Underpass', 'Concrete', 'http://www.abc.net.au/reslib/201405/r1279159_17306753.jpg', '(-35.425314712603253, 149.10322043041904)', '-35.425314712603253', '149.10322043041904'], ['Inner South', 'Narrabundah', 'Jerrabomberra Sports Ground', 'Toilet Block', 'Concrete', 'http://www.abc.net.au/reslib/201405/r1279159_17306753.jpg', '(-35.332428575575875, 149.14617002224725)', '-35.332428575575875', '149.14617002224725'], ['Tuggeranong', 'Greenway', 'Athllon Dr Underpass', 'Underpass', 'Concrete', 'http://www.abc.net.au/reslib/201405/r1279159_17306753.jpg', '(-35.397793866891227, 149.06878697962429)', '-35.397793866891227', '149.06878697962429'], ['Woden Weston', 'Curtin', 'Mcculloch St Underpass', 'Underpass', 'Concrete', 'http://www.abc.net.au/reslib/201405/r1279159_17306753.jpg', '(-35.316640818403378, 149.08181916127785)', '-35.316640818403378', '149.08181916127785'], ['Belconnen', 'Kaleen', 'Maribrynong Ave Underpass Between Diamantina And Daintree Cres', 'Underpass Walls', 'Concrete', 'http://www.abc.net.au/reslib/201405/r1279159_17306753.jpg', '(-35.232840557545487, 149.10679699531252)', '-35.232840557545487', '149.10679699531252'], ['Belconnen', 'Belconnen', 'Lake Ginninderra Bridge East', 'Underbridge', 'Concrete', 'http://www.abc.net.au/reslib/201405/r1279159_17306753.jpg', '(-35.22989872279846, 149.07772687941409)', '-35.22989872279846', '149.07772687941409'], ['Belconnen', 'Latham', 'Ginninderra Dr Underpass Ginninderra Ck', 'Underpass Walls', 'Concrete', 'http://www.abc.net.au/reslib/201405/r1279159_17306753.jpg', '(-35.210592020398295, 149.03695216752351)', '-35.210592020398295', '149.03695216752351'], ['Woden Weston', 'Warramanga', 'Damala St Underpass', 'Underpass', 'Concrete', 'http://www.abc.net.au/reslib/201405/r1279159_17306753.jpg', '(-35.349385672907317, 149.05725900089661)', '-35.349385672907317', '149.05725900089661'], ['Tuggeranong', 'Calwell', 'Wall Of Bridge And Stormwater Drain Under Tharwa Dr', 'Underpass Stormwater Drain', 'Concrete', 'http://www.abc.net.au/reslib/201405/r1279159_17306753.jpg', '(-35.437829819223879, 149.12366278834858)', '-35.437829819223879', '149.12366278834858'], ['Inner North', 'Lyneham', 'Lyneham Primary School Oval', 'Toilet Block', 'Concrete', 'http://www.abc.net.au/reslib/201405/r1279159_17306753.jpg', '(-35.25087953136395, 149.12913735345964)', '-35.25087953136395', '149.12913735345964'], ['Woden Weston', 'Chifley', 'Chifley Oval Toilet Block', 'Toilet Block', 'Brick', 'http://www.abc.net.au/reslib/201405/r1279159_17306753.jpg', '(-35.350818743608073, 149.07779158768264)', '-35.350818743608073', '149.07779158768264'], ['Belconnen', 'Florey', 'John Cleland Cres Underpass Near Florey Shops', 'Underpass Walls', 'Concrete', 'http://www.abc.net.au/reslib/201405/r1279159_17306753.jpg', '(-35.225452257669744, 149.05539411384902)', '-35.225452257669744', '149.05539411384902'], ['Belconnen', 'Latham', 'Florey Dr Underpass', 'Underpass Walls', 'Concrete', 'http://www.abc.net.au/reslib/201405/r1279159_17306753.jpg', '(-35.215151711452386, 149.01977551815139)', '-35.215151711452386', '149.01977551815139'], ['Belconnen', 'Hawker', 'Hawker College Basketball Court, Murranji Street', 'Hit Up Wall', 'Brick', 'http://www.abc.net.au/reslib/201405/r1279159_17306753.jpg', '(-35.245808752531417, 149.03417326515699)', '-35.245808752531417', '149.03417326515699'], ['Woden Weston', 'Chifley', 'Tuggeranong Pwy Underpass Between Warramanga And Chifley', 'Underpass Walls', 'Concrete', 'http://www.abc.net.au/reslib/201405/r1279159_17306753.jpg', '(-35.357550035944421, 149.06946138447248)', '-35.357550035944421', '149.06946138447248'], ['Gungahlin', 'Ngunnawal', 'Yerrabi Spillway Mirrabei Dr', 'Spillway', 'Concrete', 'http://www.abc.net.au/reslib/201405/r1279159_17306753.jpg', '(-35.177800844895081, 149.12440893570235)', '-35.177800844895081', '149.12440893570235'], ['Tuggeranong', 'Kambah', 'Mount Neighbour Primary, Boddington Crescent', 'Hit Up Wall', 'Brick', 'http://www.abc.net.au/reslib/201405/r1279159_17306753.jpg', '(-35.383498654873165, 149.05255827975085)', '-35.383498654873165', '149.05255827975085'], ['Woden Weston', 'Woden', 'Launceston Street Underpass Near Phillip College', 'Underpass Walls', 'Concrete', 'http://www.abc.net.au/reslib/201405/r1279159_17306753.jpg', '(-35.341373332711612, 149.08769687954356)', '-35.341373332711612', '149.08769687954356']]\n",
      "<class 'list'>\n"
     ]
    }
   ],
   "source": [
    "listgraf = list(grafite3)\n",
    "print(listgraf)\n",
    "print(type(listgraf))"
   ]
  },
  {
   "cell_type": "markdown",
   "metadata": {},
   "source": [
    "# Mostre quantas e quais superfícies estão listadas"
   ]
  },
  {
   "cell_type": "code",
   "execution_count": 59,
   "metadata": {},
   "outputs": [
    {
     "data": {
      "text/plain": [
       "<csv.DictReader at 0x7f5a55e8c828>"
      ]
     },
     "execution_count": 59,
     "metadata": {},
     "output_type": "execute_result"
    }
   ],
   "source": [
    "cf = csv.DictReader(listgraf)\n",
    "cf"
   ]
  },
  {
   "cell_type": "code",
   "execution_count": 60,
   "metadata": {
    "collapsed": true
   },
   "outputs": [
    {
     "ename": "Error",
     "evalue": "iterator should return strings, not list (did you open the file in text mode?)",
     "output_type": "error",
     "traceback": [
      "\u001b[0;31m---------------------------------------------------------------------------\u001b[0m",
      "\u001b[0;31mError\u001b[0m                                     Traceback (most recent call last)",
      "\u001b[0;32m<ipython-input-60-3fded21e1327>\u001b[0m in \u001b[0;36m<module>\u001b[0;34m()\u001b[0m\n\u001b[0;32m----> 1\u001b[0;31m \u001b[0;32mfor\u001b[0m \u001b[0mi\u001b[0m \u001b[0;32min\u001b[0m \u001b[0mcf\u001b[0m\u001b[0;34m:\u001b[0m\u001b[0;34m\u001b[0m\u001b[0m\n\u001b[0m\u001b[1;32m      2\u001b[0m     \u001b[0mprint\u001b[0m\u001b[0;34m(\u001b[0m\u001b[0mi\u001b[0m\u001b[0;34m[\u001b[0m\u001b[0;34m'TYPE'\u001b[0m\u001b[0;34m]\u001b[0m\u001b[0;34m)\u001b[0m\u001b[0;34m\u001b[0m\u001b[0m\n",
      "\u001b[0;32m~/anaconda3/lib/python3.6/csv.py\u001b[0m in \u001b[0;36m__next__\u001b[0;34m(self)\u001b[0m\n\u001b[1;32m    109\u001b[0m         \u001b[0;32mif\u001b[0m \u001b[0mself\u001b[0m\u001b[0;34m.\u001b[0m\u001b[0mline_num\u001b[0m \u001b[0;34m==\u001b[0m \u001b[0;36m0\u001b[0m\u001b[0;34m:\u001b[0m\u001b[0;34m\u001b[0m\u001b[0m\n\u001b[1;32m    110\u001b[0m             \u001b[0;31m# Used only for its side effect.\u001b[0m\u001b[0;34m\u001b[0m\u001b[0;34m\u001b[0m\u001b[0m\n\u001b[0;32m--> 111\u001b[0;31m             \u001b[0mself\u001b[0m\u001b[0;34m.\u001b[0m\u001b[0mfieldnames\u001b[0m\u001b[0;34m\u001b[0m\u001b[0m\n\u001b[0m\u001b[1;32m    112\u001b[0m         \u001b[0mrow\u001b[0m \u001b[0;34m=\u001b[0m \u001b[0mnext\u001b[0m\u001b[0;34m(\u001b[0m\u001b[0mself\u001b[0m\u001b[0;34m.\u001b[0m\u001b[0mreader\u001b[0m\u001b[0;34m)\u001b[0m\u001b[0;34m\u001b[0m\u001b[0m\n\u001b[1;32m    113\u001b[0m         \u001b[0mself\u001b[0m\u001b[0;34m.\u001b[0m\u001b[0mline_num\u001b[0m \u001b[0;34m=\u001b[0m \u001b[0mself\u001b[0m\u001b[0;34m.\u001b[0m\u001b[0mreader\u001b[0m\u001b[0;34m.\u001b[0m\u001b[0mline_num\u001b[0m\u001b[0;34m\u001b[0m\u001b[0m\n",
      "\u001b[0;32m~/anaconda3/lib/python3.6/csv.py\u001b[0m in \u001b[0;36mfieldnames\u001b[0;34m(self)\u001b[0m\n\u001b[1;32m     96\u001b[0m         \u001b[0;32mif\u001b[0m \u001b[0mself\u001b[0m\u001b[0;34m.\u001b[0m\u001b[0m_fieldnames\u001b[0m \u001b[0;32mis\u001b[0m \u001b[0;32mNone\u001b[0m\u001b[0;34m:\u001b[0m\u001b[0;34m\u001b[0m\u001b[0m\n\u001b[1;32m     97\u001b[0m             \u001b[0;32mtry\u001b[0m\u001b[0;34m:\u001b[0m\u001b[0;34m\u001b[0m\u001b[0m\n\u001b[0;32m---> 98\u001b[0;31m                 \u001b[0mself\u001b[0m\u001b[0;34m.\u001b[0m\u001b[0m_fieldnames\u001b[0m \u001b[0;34m=\u001b[0m \u001b[0mnext\u001b[0m\u001b[0;34m(\u001b[0m\u001b[0mself\u001b[0m\u001b[0;34m.\u001b[0m\u001b[0mreader\u001b[0m\u001b[0;34m)\u001b[0m\u001b[0;34m\u001b[0m\u001b[0m\n\u001b[0m\u001b[1;32m     99\u001b[0m             \u001b[0;32mexcept\u001b[0m \u001b[0mStopIteration\u001b[0m\u001b[0;34m:\u001b[0m\u001b[0;34m\u001b[0m\u001b[0m\n\u001b[1;32m    100\u001b[0m                 \u001b[0;32mpass\u001b[0m\u001b[0;34m\u001b[0m\u001b[0m\n",
      "\u001b[0;31mError\u001b[0m: iterator should return strings, not list (did you open the file in text mode?)"
     ]
    }
   ],
   "source": [
    "for i in cf:\n",
    "    print(i['TYPE'])"
   ]
  },
  {
   "cell_type": "markdown",
   "metadata": {},
   "source": [
    "# Arquivos JSON"
   ]
  },
  {
   "cell_type": "markdown",
   "metadata": {},
   "source": [
    "É uma combinação de listas e dicionários..."
   ]
  },
  {
   "cell_type": "code",
   "execution_count": 99,
   "metadata": {},
   "outputs": [
    {
     "name": "stdout",
     "output_type": "stream",
     "text": [
      "<class 'dict'>\n",
      "{'as': 'AS26615 Tim Celular S.A.', 'city': 'São Paulo', 'country': 'Brazil', 'countryCode': 'BR', 'isp': 'Tim Celular S.A.', 'lat': -23.5733, 'lon': -46.6417, 'org': 'Tim Celular S.A.', 'query': '189.40.90.150', 'region': 'SP', 'regionName': 'Sao Paulo', 'status': 'success', 'timezone': 'America/Sao_Paulo', 'zip': '01323'}\n"
     ]
    }
   ],
   "source": [
    "import json\n",
    "jf = open(\"json1.json\").read()\n",
    "meuJson = json.loads(jf)\n",
    "print(type(meuJson))\n",
    "print(meuJson)"
   ]
  },
  {
   "cell_type": "markdown",
   "metadata": {},
   "source": [
    "Comprimento do dicionário"
   ]
  },
  {
   "cell_type": "code",
   "execution_count": 68,
   "metadata": {},
   "outputs": [
    {
     "data": {
      "text/plain": [
       "14"
      ]
     },
     "execution_count": 68,
     "metadata": {},
     "output_type": "execute_result"
    }
   ],
   "source": [
    "len(meuJson)"
   ]
  },
  {
   "cell_type": "markdown",
   "metadata": {},
   "source": [
    "Elementos do dicionário"
   ]
  },
  {
   "cell_type": "code",
   "execution_count": 70,
   "metadata": {},
   "outputs": [
    {
     "data": {
      "text/plain": [
       "'São Paulo'"
      ]
     },
     "execution_count": 70,
     "metadata": {},
     "output_type": "execute_result"
    }
   ],
   "source": [
    "meuJson['city']"
   ]
  },
  {
   "cell_type": "markdown",
   "metadata": {},
   "source": [
    "Imprime todas as chaves do dicionário:"
   ]
  },
  {
   "cell_type": "code",
   "execution_count": 73,
   "metadata": {},
   "outputs": [
    {
     "name": "stdout",
     "output_type": "stream",
     "text": [
      "as\n",
      "city\n",
      "country\n",
      "countryCode\n",
      "isp\n",
      "lat\n",
      "lon\n",
      "org\n",
      "query\n",
      "region\n",
      "regionName\n",
      "status\n",
      "timezone\n",
      "zip\n"
     ]
    }
   ],
   "source": [
    "for chave in meuJson:\n",
    " print(chave)"
   ]
  },
  {
   "cell_type": "markdown",
   "metadata": {},
   "source": [
    "Imprime todos os valores do dicionário:"
   ]
  },
  {
   "cell_type": "code",
   "execution_count": 75,
   "metadata": {
    "scrolled": true
   },
   "outputs": [
    {
     "name": "stdout",
     "output_type": "stream",
     "text": [
      "AS26615 Tim Celular S.A.\n",
      "São Paulo\n",
      "Brazil\n",
      "BR\n",
      "Tim Celular S.A.\n",
      "-23.5733\n",
      "-46.6417\n",
      "Tim Celular S.A.\n",
      "189.40.90.150\n",
      "SP\n",
      "Sao Paulo\n",
      "success\n",
      "America/Sao_Paulo\n",
      "01323\n"
     ]
    }
   ],
   "source": [
    "for chave in meuJson:\n",
    " print(meuJson[chave])"
   ]
  },
  {
   "cell_type": "markdown",
   "metadata": {},
   "source": [
    "# Alterando dados"
   ]
  },
  {
   "cell_type": "code",
   "execution_count": 77,
   "metadata": {},
   "outputs": [
    {
     "data": {
      "text/plain": [
       "'success'"
      ]
     },
     "execution_count": 77,
     "metadata": {},
     "output_type": "execute_result"
    }
   ],
   "source": [
    "meuJson['status']"
   ]
  },
  {
   "cell_type": "code",
   "execution_count": 79,
   "metadata": {},
   "outputs": [],
   "source": [
    "meuJson['status'] = 'fail'"
   ]
  },
  {
   "cell_type": "code",
   "execution_count": 80,
   "metadata": {},
   "outputs": [
    {
     "data": {
      "text/plain": [
       "'fail'"
      ]
     },
     "execution_count": 80,
     "metadata": {},
     "output_type": "execute_result"
    }
   ],
   "source": [
    "meuJson['status']"
   ]
  },
  {
   "cell_type": "markdown",
   "metadata": {},
   "source": [
    "# Adicionando dados"
   ]
  },
  {
   "cell_type": "code",
   "execution_count": 82,
   "metadata": {
    "scrolled": true
   },
   "outputs": [
    {
     "ename": "KeyError",
     "evalue": "'bairros'",
     "output_type": "error",
     "traceback": [
      "\u001b[0;31m---------------------------------------------------------------------------\u001b[0m",
      "\u001b[0;31mKeyError\u001b[0m                                  Traceback (most recent call last)",
      "\u001b[0;32m<ipython-input-82-a431f1b7ddad>\u001b[0m in \u001b[0;36m<module>\u001b[0;34m()\u001b[0m\n\u001b[0;32m----> 1\u001b[0;31m \u001b[0mmeuJson\u001b[0m\u001b[0;34m[\u001b[0m\u001b[0;34m'bairros'\u001b[0m\u001b[0;34m]\u001b[0m\u001b[0;34m\u001b[0m\u001b[0m\n\u001b[0m",
      "\u001b[0;31mKeyError\u001b[0m: 'bairros'"
     ]
    }
   ],
   "source": [
    "meuJson['bairros']"
   ]
  },
  {
   "cell_type": "code",
   "execution_count": 83,
   "metadata": {},
   "outputs": [],
   "source": [
    "meuJson['bairros'] = ['Reboucas', 'Centro']"
   ]
  },
  {
   "cell_type": "code",
   "execution_count": 86,
   "metadata": {},
   "outputs": [
    {
     "data": {
      "text/plain": [
       "['Reboucas', 'Centro']"
      ]
     },
     "execution_count": 86,
     "metadata": {},
     "output_type": "execute_result"
    }
   ],
   "source": [
    "meuJson['bairros']"
   ]
  },
  {
   "cell_type": "markdown",
   "metadata": {},
   "source": [
    "# Removendo dados"
   ]
  },
  {
   "cell_type": "code",
   "execution_count": 93,
   "metadata": {},
   "outputs": [
    {
     "data": {
      "text/plain": [
       "False"
      ]
     },
     "execution_count": 93,
     "metadata": {},
     "output_type": "execute_result"
    }
   ],
   "source": [
    "del meuJson['country']\n",
    "'country' in meuJson         # Existe a chave chamada 'country' no dicionário meuJson?"
   ]
  },
  {
   "cell_type": "code",
   "execution_count": 100,
   "metadata": {},
   "outputs": [
    {
     "data": {
      "text/plain": [
       "'189.40.90.150'"
      ]
     },
     "execution_count": 100,
     "metadata": {},
     "output_type": "execute_result"
    }
   ],
   "source": [
    "meuJson.pop('query')"
   ]
  },
  {
   "cell_type": "code",
   "execution_count": 101,
   "metadata": {},
   "outputs": [
    {
     "ename": "KeyError",
     "evalue": "'batata'",
     "output_type": "error",
     "traceback": [
      "\u001b[0;31m---------------------------------------------------------------------------\u001b[0m",
      "\u001b[0;31mKeyError\u001b[0m                                  Traceback (most recent call last)",
      "\u001b[0;32m<ipython-input-101-dfe437ba2c64>\u001b[0m in \u001b[0;36m<module>\u001b[0;34m()\u001b[0m\n\u001b[0;32m----> 1\u001b[0;31m \u001b[0;32mdel\u001b[0m \u001b[0mmeuJson\u001b[0m\u001b[0;34m[\u001b[0m\u001b[0;34m'batata'\u001b[0m\u001b[0;34m]\u001b[0m\u001b[0;34m\u001b[0m\u001b[0m\n\u001b[0m",
      "\u001b[0;31mKeyError\u001b[0m: 'batata'"
     ]
    }
   ],
   "source": [
    "del meuJson['batata']"
   ]
  },
  {
   "cell_type": "code",
   "execution_count": 102,
   "metadata": {},
   "outputs": [],
   "source": [
    "meuJson.pop('batata', None)"
   ]
  },
  {
   "cell_type": "markdown",
   "metadata": {},
   "source": [
    "# Escrevendo um arquivo JSON"
   ]
  },
  {
   "cell_type": "code",
   "execution_count": 104,
   "metadata": {},
   "outputs": [],
   "source": [
    "saida = open(\"saida.json\", \"w\")\n",
    "json.dump(meuJson, saida)\n",
    "saida.close()"
   ]
  }
 ],
 "metadata": {
  "kernelspec": {
   "display_name": "Python 3",
   "language": "python",
   "name": "python3"
  },
  "language_info": {
   "codemirror_mode": {
    "name": "ipython",
    "version": 3
   },
   "file_extension": ".py",
   "mimetype": "text/x-python",
   "name": "python",
   "nbconvert_exporter": "python",
   "pygments_lexer": "ipython3",
   "version": "3.6.4"
  }
 },
 "nbformat": 4,
 "nbformat_minor": 2
}
