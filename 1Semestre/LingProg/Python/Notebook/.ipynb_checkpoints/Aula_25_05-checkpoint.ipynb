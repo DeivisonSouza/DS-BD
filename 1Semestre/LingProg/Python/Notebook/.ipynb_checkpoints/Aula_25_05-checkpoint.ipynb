{
 "cells": [
  {
   "cell_type": "markdown",
   "metadata": {},
   "source": [
    "# Lista como um vetor"
   ]
  },
  {
   "cell_type": "code",
   "execution_count": 3,
   "metadata": {},
   "outputs": [
    {
     "name": "stdout",
     "output_type": "stream",
     "text": [
      "[[1, 2, 3], [4, 5, 6], [7, 8, 9]]\n",
      "[4, 5, 6]\n"
     ]
    }
   ],
   "source": [
    "coisas = [[1,2,3],[4,5,6], [7,8,9]]\n",
    "print(coisas)\n",
    "print(coisas[1])"
   ]
  },
  {
   "cell_type": "code",
   "execution_count": 4,
   "metadata": {},
   "outputs": [],
   "source": [
    "frutas = [\"banana\", \"maçã\"]\n",
    "vestes = [\"bota\", \"sapato\", \"chinelo\"]\n",
    "coisas.append(frutas)\n",
    "coisas.append(vestes)"
   ]
  },
  {
   "cell_type": "code",
   "execution_count": 5,
   "metadata": {},
   "outputs": [
    {
     "data": {
      "text/plain": [
       "[[1, 2, 3],\n",
       " [4, 5, 6],\n",
       " [7, 8, 9],\n",
       " ['banana', 'maçã'],\n",
       " ['bota', 'sapato', 'chinelo']]"
      ]
     },
     "execution_count": 5,
     "metadata": {},
     "output_type": "execute_result"
    }
   ],
   "source": [
    "# União\n",
    "[[1,2,3],[4,5,6], [7,8,9], [\"banana\", \"maçã\"], [\"bota\", \"sapato\", \"chinelo\"]]\n"
   ]
  },
  {
   "cell_type": "markdown",
   "metadata": {},
   "source": [
    "# Matriz de zero"
   ]
  },
  {
   "cell_type": "code",
   "execution_count": 8,
   "metadata": {},
   "outputs": [
    {
     "ename": "NameError",
     "evalue": "name 'lista' is not defined",
     "output_type": "error",
     "traceback": [
      "\u001b[0;31m---------------------------------------------------------------------------\u001b[0m",
      "\u001b[0;31mNameError\u001b[0m                                 Traceback (most recent call last)",
      "\u001b[0;32m<ipython-input-8-8dc21be7e9c8>\u001b[0m in \u001b[0;36m<module>\u001b[0;34m()\u001b[0m\n\u001b[1;32m      1\u001b[0m \u001b[0;31m# Dada uma matriz z = [0,0,0], como seria uma matriz 3x3 de zeros...\u001b[0m\u001b[0;34m\u001b[0m\u001b[0;34m\u001b[0m\u001b[0m\n\u001b[1;32m      2\u001b[0m \u001b[0;34m\u001b[0m\u001b[0m\n\u001b[0;32m----> 3\u001b[0;31m \u001b[0mlista\u001b[0m\u001b[0;34m.\u001b[0m\u001b[0mappend\u001b[0m\u001b[0;34m(\u001b[0m\u001b[0mz\u001b[0m\u001b[0;34m)\u001b[0m\u001b[0;34m\u001b[0m\u001b[0m\n\u001b[0m\u001b[1;32m      4\u001b[0m \u001b[0mlista\u001b[0m\u001b[0;34m.\u001b[0m\u001b[0mappend\u001b[0m\u001b[0;34m(\u001b[0m\u001b[0mz\u001b[0m\u001b[0;34m)\u001b[0m\u001b[0;34m\u001b[0m\u001b[0m\n\u001b[1;32m      5\u001b[0m \u001b[0mlista\u001b[0m\u001b[0;34m.\u001b[0m\u001b[0mappend\u001b[0m\u001b[0;34m(\u001b[0m\u001b[0mz\u001b[0m\u001b[0;34m)\u001b[0m\u001b[0;34m\u001b[0m\u001b[0m\n",
      "\u001b[0;31mNameError\u001b[0m: name 'lista' is not defined"
     ]
    }
   ],
   "source": [
    "# Dada uma matriz z = [0,0,0], como seria uma matriz 3x3 de zeros...\n",
    "\n",
    "lista.append(z)\n",
    "lista.append(z)\n",
    "lista.append(z)\n",
    "lista"
   ]
  },
  {
   "cell_type": "code",
   "execution_count": 9,
   "metadata": {},
   "outputs": [
    {
     "data": {
      "text/plain": [
       "True"
      ]
     },
     "execution_count": 9,
     "metadata": {},
     "output_type": "execute_result"
    }
   ],
   "source": [
    "#Alocação dinâmica de memoria\n",
    "\n",
    "a = [1,2,3]\n",
    "b = a\n",
    "a is b"
   ]
  },
  {
   "cell_type": "code",
   "execution_count": 10,
   "metadata": {},
   "outputs": [
    {
     "ename": "NameError",
     "evalue": "name 'lista' is not defined",
     "output_type": "error",
     "traceback": [
      "\u001b[0;31m---------------------------------------------------------------------------\u001b[0m",
      "\u001b[0;31mNameError\u001b[0m                                 Traceback (most recent call last)",
      "\u001b[0;32m<ipython-input-10-e4d2cafc4e6a>\u001b[0m in \u001b[0;36m<module>\u001b[0;34m()\u001b[0m\n\u001b[1;32m      1\u001b[0m \u001b[0my\u001b[0m \u001b[0;34m=\u001b[0m \u001b[0;34m[\u001b[0m\u001b[0;36m0\u001b[0m\u001b[0;34m,\u001b[0m\u001b[0;36m0\u001b[0m\u001b[0;34m,\u001b[0m\u001b[0;36m0\u001b[0m\u001b[0;34m]\u001b[0m\u001b[0;34m\u001b[0m\u001b[0m\n\u001b[0;32m----> 2\u001b[0;31m \u001b[0mlista\u001b[0m\u001b[0;34m.\u001b[0m\u001b[0mappend\u001b[0m\u001b[0;34m(\u001b[0m\u001b[0my\u001b[0m\u001b[0;34m)\u001b[0m\u001b[0;34m\u001b[0m\u001b[0m\n\u001b[0m",
      "\u001b[0;31mNameError\u001b[0m: name 'lista' is not defined"
     ]
    }
   ],
   "source": [
    "y = [0,0,0]\n",
    "lista.append(y)"
   ]
  },
  {
   "cell_type": "code",
   "execution_count": 11,
   "metadata": {},
   "outputs": [
    {
     "data": {
      "text/plain": [
       "[[1, 2, 3], [1, 2, 3]]"
      ]
     },
     "execution_count": 11,
     "metadata": {},
     "output_type": "execute_result"
    }
   ],
   "source": [
    "# Cópia superficial (slicing)\n",
    "\n",
    "c =[]\n",
    "c.append(a[:])\n",
    "c.append(b[:])\n",
    "c"
   ]
  },
  {
   "cell_type": "code",
   "execution_count": 13,
   "metadata": {},
   "outputs": [
    {
     "data": {
      "text/plain": [
       "[[0, 2, 3], [1, 2, 3]]"
      ]
     },
     "execution_count": 13,
     "metadata": {},
     "output_type": "execute_result"
    }
   ],
   "source": [
    "c[0][0] = 0\n",
    "c"
   ]
  },
  {
   "cell_type": "code",
   "execution_count": 14,
   "metadata": {},
   "outputs": [
    {
     "name": "stdout",
     "output_type": "stream",
     "text": [
      "[1, 2, 3, 5]\n"
     ]
    },
    {
     "data": {
      "text/plain": [
       "[1, 2, 3]"
      ]
     },
     "execution_count": 14,
     "metadata": {},
     "output_type": "execute_result"
    }
   ],
   "source": [
    "# Cópia superficial (copy) - Faz o mesmo que o slicing\n",
    "\n",
    "import copy\n",
    "b = copy.copy(a)\n",
    "a.append(5)\n",
    "print(a)\n",
    "(b)"
   ]
  },
  {
   "cell_type": "code",
   "execution_count": 20,
   "metadata": {},
   "outputs": [
    {
     "name": "stdout",
     "output_type": "stream",
     "text": [
      "[[1, 0], [0, 0]]\n",
      "[[1, 0], [0, 0]]\n"
     ]
    }
   ],
   "source": [
    "# Cópia superficial de lista de listas\n",
    "\n",
    "a = [[0,0],[0,0]]\n",
    "b = copy.copy(a)    #ponteiro para lista maior...\n",
    "a[0][0]= 1\n",
    "print(a)\n",
    "print(b)"
   ]
  },
  {
   "cell_type": "code",
   "execution_count": 21,
   "metadata": {},
   "outputs": [
    {
     "name": "stdout",
     "output_type": "stream",
     "text": [
      "[[1, 0], [0, 0]]\n",
      "[[0, 0], [0, 0]]\n"
     ]
    }
   ],
   "source": [
    "# Cópia profunda\n",
    "\n",
    "a = [[0,0],[0,0]]\n",
    "b = copy.deepcopy(a)\n",
    "a[0][0]= 1\n",
    "print(a)\n",
    "print(b)"
   ]
  },
  {
   "cell_type": "markdown",
   "metadata": {},
   "source": [
    "# Exercícios"
   ]
  },
  {
   "cell_type": "code",
   "execution_count": 29,
   "metadata": {},
   "outputs": [
    {
     "data": {
      "text/plain": [
       "['Arturito',\n",
       " 'banana',\n",
       " 'banana',\n",
       " 'banana',\n",
       " 'banana',\n",
       " 'banana',\n",
       " 'banana',\n",
       " 'banana',\n",
       " 'banana',\n",
       " 'banana',\n",
       " 'banana',\n",
       " 'banana',\n",
       " 'banana',\n",
       " 'banana',\n",
       " 'banana',\n",
       " 'banana',\n",
       " 'banana',\n",
       " 'banana',\n",
       " 'banana',\n",
       " 'banana',\n",
       " 'banana',\n",
       " 'banana',\n",
       " 'banana',\n",
       " 'banana',\n",
       " 'banana',\n",
       " 'banana',\n",
       " 'banana',\n",
       " 'batata',\n",
       " 'batata',\n",
       " 'batata',\n",
       " 'batata',\n",
       " 'batata',\n",
       " 'batata',\n",
       " 'batata',\n",
       " 'batata',\n",
       " 'batata',\n",
       " 'batata',\n",
       " 'batata',\n",
       " 'batata',\n",
       " 'batata',\n",
       " 'batata',\n",
       " 'batata',\n",
       " 'batata',\n",
       " 'batata',\n",
       " 'batata',\n",
       " 'batata',\n",
       " 'batata',\n",
       " 'batata',\n",
       " 'batata',\n",
       " 'batata',\n",
       " 'batata',\n",
       " 'batata',\n",
       " 'batata',\n",
       " 'cabrito',\n",
       " 'cinto',\n",
       " 'cinto',\n",
       " 'cinto',\n",
       " 'cinto',\n",
       " 'colher',\n",
       " 'colher',\n",
       " 'colher',\n",
       " 'colher',\n",
       " 'guarda',\n",
       " 'guarda',\n",
       " 'guarda-chuva',\n",
       " 'guarda-chuva',\n",
       " 'guarda-chuva',\n",
       " 'guarda-chuva',\n",
       " 'guarda-chuva',\n",
       " 'guarda-chuva',\n",
       " 'guarda-chuva',\n",
       " 'guarda-roupa',\n",
       " 'guarda-roupa',\n",
       " 'guarda-roupa',\n",
       " 'guarda-roupa',\n",
       " 'guarda-treco',\n",
       " 'guarda-treco',\n",
       " 'livro',\n",
       " 'livro',\n",
       " 'livro',\n",
       " 'livro',\n",
       " 'livro',\n",
       " 'livro',\n",
       " 'livro',\n",
       " 'livro',\n",
       " 'livro',\n",
       " 'livro',\n",
       " 'livro',\n",
       " 'livro',\n",
       " 'livro',\n",
       " 'livro',\n",
       " 'olho',\n",
       " 'olho',\n",
       " 'ovo',\n",
       " 'ovo',\n",
       " 'ovo',\n",
       " 'pincel',\n",
       " 'pincel',\n",
       " 'pincel',\n",
       " 'pincel',\n",
       " 'pincel',\n",
       " 'pincel',\n",
       " 'pincel',\n",
       " 'pincel',\n",
       " 'pincel',\n",
       " 'pincel',\n",
       " 'pincel',\n",
       " 'pincel',\n",
       " 'pincel',\n",
       " 'pincel',\n",
       " 'pincel',\n",
       " 'pincel',\n",
       " 'piolho',\n",
       " 'sapato',\n",
       " 'sapato',\n",
       " 'sapato',\n",
       " 'sapato',\n",
       " 'sapato',\n",
       " 'sapato',\n",
       " 'sapato',\n",
       " 'sapato',\n",
       " 'sapato',\n",
       " 'sapato',\n",
       " 'sapato',\n",
       " 'sapato',\n",
       " 'sapato',\n",
       " 'sapato',\n",
       " 'sapato',\n",
       " 'sapato',\n",
       " 'sapato',\n",
       " 'sapato',\n",
       " 'sapato',\n",
       " 'sapato',\n",
       " 'sapato',\n",
       " 'sapato',\n",
       " 'sapato',\n",
       " 'sapato',\n",
       " 'sapato',\n",
       " 'sapato',\n",
       " 'sapato',\n",
       " 'sapato',\n",
       " 'sapato',\n",
       " 'sapato',\n",
       " 'tartaruga',\n",
       " 'tartaruga',\n",
       " 'tartaruga',\n",
       " 'tartaruga',\n",
       " 'tartaruga',\n",
       " 'tartaruga',\n",
       " 'tartaruga',\n",
       " 'tartaruga',\n",
       " 'tartaruga',\n",
       " 'tartaruga',\n",
       " 'tartaruga',\n",
       " 'tartaruga',\n",
       " 'televisão',\n",
       " 'uva']"
      ]
     },
     "execution_count": 29,
     "metadata": {},
     "output_type": "execute_result"
    }
   ],
   "source": [
    "# Dada a lista passada pelo professor...\n",
    "# Criar uma função que ordene a lista alfabeticamente...\n",
    "# Criar uma função que inverta a ordem dos elementos da lista...\n",
    "# Vimos que união de listas se faz com o operador +\n",
    "# Faça uma função em que, dadas duas listas, retorne a interseção..\n",
    "# Criar uma função que conte os elementos repetidos da lista....\n",
    "\n",
    "lista = ['guarda-chuva', 'banana', 'banana', 'banana', 'banana', 'banana', 'banana', 'banana', 'banana', 'banana', \n",
    "         'banana', 'guarda-roupa', 'guarda-chuva', 'batata', 'batata', 'batata', 'batata', 'batata', 'guarda-chuva',\n",
    "         'banana', 'guarda-roupa', 'sapato', 'sapato', 'sapato', 'sapato', 'sapato', 'sapato', 'sapato', 'sapato', \n",
    "         'sapato', 'sapato', 'sapato', 'sapato', 'sapato', 'sapato', 'sapato', 'pincel', 'pincel', 'pincel', 'pincel',\n",
    "         'Arturito', 'tartaruga', 'tartaruga', 'tartaruga', 'tartaruga', 'tartaruga', 'tartaruga', 'guarda-treco', \n",
    "         'colher', 'colher', 'ovo', 'olho', 'livro', 'livro', 'livro', 'livro', 'livro', 'livro', 'livro', 'pincel', \n",
    "         'pincel', 'pincel', 'pincel', 'televisão', 'ovo', 'guarda', 'batata', 'batata', 'batata', 'batata', 'batata',\n",
    "         'batata', 'batata', 'batata', 'batata', 'batata', 'batata', 'batata', 'batata', 'batata', 'batata', 'batata', \n",
    "         'uva', 'pincel', 'pincel', 'pincel', 'pincel', 'cabrito', 'guarda', 'piolho', 'guarda-chuva', 'pincel', 'pincel', \n",
    "         'pincel', 'pincel', 'banana', 'banana', 'banana', 'banana', 'guarda-chuva', 'banana', 'banana', 'banana', 'banana',\n",
    "         'banana', 'banana', 'banana', 'banana', 'banana', 'banana', 'guarda-roupa', 'guarda-chuva', 'batata', 'batata', \n",
    "         'batata', 'batata', 'batata', 'guarda-chuva', 'banana', 'guarda-roupa', 'sapato', 'sapato', 'sapato', 'sapato', \n",
    "         'sapato', 'sapato', 'sapato', 'sapato', 'sapato', 'sapato', 'sapato', 'sapato', 'sapato', 'sapato', 'sapato', \n",
    "         'tartaruga', 'tartaruga', 'tartaruga', 'tartaruga', 'tartaruga', 'tartaruga', 'guarda-treco', 'colher', 'colher',\n",
    "         'ovo', 'olho', 'livro', 'livro', 'livro', 'livro', 'livro', 'livro', 'livro', 'cinto', 'cinto', 'cinto', 'cinto']\n",
    "\n",
    "menor = lista[0]\n",
    "ordenada = [ ]\n",
    "\n",
    "# Primeiro laço irá identificar o menor elementos...\n",
    "for i in range (1, len(lista)):\n",
    "    if lista[i] < menor:\n",
    "        menor = lista[i]\n",
    "\n",
    "#sorted(lista)"
   ]
  },
  {
   "cell_type": "code",
   "execution_count": 27,
   "metadata": {},
   "outputs": [
    {
     "data": {
      "text/plain": [
       "[1, 3]"
      ]
     },
     "execution_count": 27,
     "metadata": {},
     "output_type": "execute_result"
    }
   ],
   "source": [
    "# Intersecão de listas\n",
    "a = [1,2,3]\n",
    "b = [1,4,3]\n",
    "[x for x in a if x in b] # buscar um elemento x, em que x não está em \"a\" e x não está em \"b\". "
   ]
  },
  {
   "cell_type": "code",
   "execution_count": 30,
   "metadata": {},
   "outputs": [],
   "source": [
    "# Criar uma função que conte os elementos repetidos da lista...\n",
    "\n",
    "repetidos = [ ]\n",
    "nrepetidos = [ ]"
   ]
  },
  {
   "cell_type": "code",
   "execution_count": 31,
   "metadata": {},
   "outputs": [],
   "source": [
    "# O dicionário...\n",
    "\n",
    "# Criar uma função que conte os elementos repetidos da lista\n",
    "\n",
    "Dic = {}  # composto por \"chave\" e \"valor\"..."
   ]
  },
  {
   "cell_type": "code",
   "execution_count": 35,
   "metadata": {},
   "outputs": [],
   "source": [
    "# Pilhas\n",
    "\n",
    "# O que é?\n",
    "# Estrutura de dados com um atributo \"topo\"\n",
    "# Política LIFO: Último a chegar, primeira a sair\n",
    "\n",
    "# Métodos:\n",
    "# PUSH para inserir no topo...\n",
    "# POP para remover do topo...\n",
    "\n",
    "Pilha = [1,2,3]\n",
    "Pilha.append(4)"
   ]
  },
  {
   "cell_type": "code",
   "execution_count": 33,
   "metadata": {},
   "outputs": [
    {
     "data": {
      "text/plain": [
       "1"
      ]
     },
     "execution_count": 33,
     "metadata": {},
     "output_type": "execute_result"
    }
   ],
   "source": [
    "# Filas\n",
    "# O que é?\n",
    "# Estrutura de dados com atributos \"início\" e \"fim\"\n",
    "# Poĺitica FIFO\n",
    "\n",
    "Fila = [1,2,3]\n",
    "Fila.append(4)\n",
    "Fila.pop(0)"
   ]
  },
  {
   "cell_type": "code",
   "execution_count": 37,
   "metadata": {},
   "outputs": [
    {
     "name": "stdout",
     "output_type": "stream",
     "text": [
      "array('i', [0, 1, 2])\n"
     ]
    }
   ],
   "source": [
    "# Vetor em Python\n",
    "# Diferença entre vetor e lista?\n",
    "import array\n",
    "\n",
    "meuVetor = array.array('i', [0,1,2])\n",
    "print(meuVetor)"
   ]
  },
  {
   "cell_type": "markdown",
   "metadata": {},
   "source": [
    "# Exercícios"
   ]
  },
  {
   "cell_type": "markdown",
   "metadata": {},
   "source": [
    "1) Inverter uma lista usando conceito de pilha...\n",
    "\n",
    "2) Deduplicar elementos de uma lista....\n",
    "\n",
    "3) Função para dado \"n\", criar lista de números até \"n\" contendo os quadrados dos números usando list comprehension...\n",
    "\n",
    "4) Dadas duas listas, l1 = [1,2,3] e l2 = [3,1,4], combine os elemntos das duas, par a par (em tuplas), sem que uma tupla contenha elementos repetidos usando list comprehension"
   ]
  },
  {
   "cell_type": "code",
   "execution_count": 51,
   "metadata": {},
   "outputs": [
    {
     "name": "stdout",
     "output_type": "stream",
     "text": [
      "['a', 'b', 'b', 'c']\n"
     ]
    },
    {
     "ename": "NameError",
     "evalue": "name 'j' is not defined",
     "output_type": "error",
     "traceback": [
      "\u001b[0;31m---------------------------------------------------------------------------\u001b[0m",
      "\u001b[0;31mNameError\u001b[0m                                 Traceback (most recent call last)",
      "\u001b[0;32m<ipython-input-51-2f5ed3c57ce6>\u001b[0m in \u001b[0;36m<module>\u001b[0;34m()\u001b[0m\n\u001b[1;32m      4\u001b[0m \u001b[0;34m\u001b[0m\u001b[0m\n\u001b[1;32m      5\u001b[0m \u001b[0;32mfor\u001b[0m \u001b[0mi\u001b[0m \u001b[0;32min\u001b[0m \u001b[0mrange\u001b[0m\u001b[0;34m(\u001b[0m\u001b[0mlen\u001b[0m\u001b[0;34m(\u001b[0m\u001b[0mlista\u001b[0m\u001b[0;34m)\u001b[0m\u001b[0;34m)\u001b[0m\u001b[0;34m:\u001b[0m\u001b[0;34m\u001b[0m\u001b[0m\n\u001b[0;32m----> 6\u001b[0;31m     \u001b[0mj\u001b[0m\u001b[0;34m-=\u001b[0m \u001b[0;36m1\u001b[0m\u001b[0;34m\u001b[0m\u001b[0m\n\u001b[0m\u001b[1;32m      7\u001b[0m     \u001b[0mpilha\u001b[0m\u001b[0;34m.\u001b[0m\u001b[0mappend\u001b[0m\u001b[0;34m(\u001b[0m\u001b[0mlista\u001b[0m\u001b[0;34m[\u001b[0m\u001b[0mj\u001b[0m\u001b[0;34m]\u001b[0m\u001b[0;34m)\u001b[0m\u001b[0;34m\u001b[0m\u001b[0m\n",
      "\u001b[0;31mNameError\u001b[0m: name 'j' is not defined"
     ]
    }
   ],
   "source": [
    "# 1) Inverter uma lista usando conceito de pilha...\n",
    "lista = ['a', 'b', 'b', 'c']\n",
    "print(lista)\n",
    "\n",
    "for i in range(len(lista)):\n",
    "    j-= 1\n",
    "    pilha.append(lista[j])\n"
   ]
  },
  {
   "cell_type": "code",
   "execution_count": 45,
   "metadata": {},
   "outputs": [
    {
     "name": "stdout",
     "output_type": "stream",
     "text": [
      "['a', 'b', 'b', 'c']\n"
     ]
    }
   ],
   "source": [
    "# 2) Deduplicar elementos de uma lista....\n",
    "\n",
    "lista = ['a', 'b', 'b', 'c']\n",
    "print(lista)\n",
    "set(lista) #transforma qualquer lista em um conjunto (sem elementos duplicados)\n",
    "\n",
    "a = set(lista)\n",
    "type(a)   # observar que a classe é \"set\" (conjunto)\n",
    "\n",
    "sorted(a)\n",
    "b = sorted(a)"
   ]
  },
  {
   "cell_type": "markdown",
   "metadata": {},
   "source": [
    "# Abrindo um arquivo"
   ]
  },
  {
   "cell_type": "markdown",
   "metadata": {},
   "source": [
    "Leitura:\n",
    "Modo padrão leitura em modo texto: \"r\" (read)\n",
    "open(\"arquivo.txt\")\n",
    "\n",
    "Escrita:\n",
    "open(\"resultado.txt\", \"w\")\n",
    "'a' = modo append, insere no fim do arquivo se este existe..."
   ]
  },
  {
   "cell_type": "code",
   "execution_count": 10,
   "metadata": {},
   "outputs": [
    {
     "name": "stdout",
     "output_type": "stream",
     "text": [
      "['guarda-chuva', 'banana', 'banana', 'banana', 'banana', 'banana', 'banana', 'banana', 'banana', 'banana', 'banana', 'guarda-roupa', 'guarda-chuva', 'batata', 'batata', 'batata', 'batata', 'batata', 'guarda-chuva', 'banana', 'guarda-roupa', 'sapato', 'sapato', 'sapato', 'sapato', 'sapato', 'sapato', 'sapato', 'sapato', 'sapato', 'sapato', 'sapato', 'sapato', 'sapato', 'sapato', 'sapato', 'pincel', 'pincel', 'pincel', 'pincel', 'Arturito', 'tartaruga', 'tartaruga', 'tartaruga', 'tartaruga', 'tartaruga', 'tartaruga', 'guarda-treco', 'colher', 'colher', 'ovo', 'olho', 'livro', 'livro', 'livro', 'livro', 'livro', 'livro', 'livro', 'pincel', 'pincel', 'pincel', 'pincel', 'televisão', 'ovo', 'guarda', 'batata', 'batata', 'batata', 'batata', 'batata', 'batata', 'batata', 'batata', 'batata', 'batata', 'batata', 'batata', 'batata', 'batata', 'batata', 'batata', 'uva', 'pincel', 'pincel', 'pincel', 'pincel', 'cabrito', 'guarda', 'piolho', 'guarda-chuva', 'pincel', 'pincel', 'pincel', 'pincel', 'banana', 'banana', 'banana', 'banana', 'guarda-chuva', 'banana', 'banana', 'banana', 'banana', 'banana', 'banana', 'banana', 'banana', 'banana', 'banana', 'guarda-roupa', 'guarda-chuva', 'batata', 'batata', 'batata', 'batata', 'batata', 'guarda-chuva', 'banana', 'guarda-roupa', 'sapato', 'sapato', 'sapato', 'sapato', 'sapato', 'sapato', 'sapato', 'sapato', 'sapato', 'sapato', 'sapato', 'sapato', 'sapato', 'sapato', 'sapato', 'tartaruga', 'tartaruga', 'tartaruga', 'tartaruga', 'tartaruga', 'tartaruga', 'guarda-treco', 'colher', 'colher', 'ovo', 'olho', 'livro', 'livro', 'livro', 'livro', 'livro', 'livro', 'livro', 'cinto', 'cinto', 'cinto', 'cinto']\n"
     ]
    }
   ],
   "source": [
    "# A função read()...\n",
    "# Lê o arquivo inteiro....\n",
    "\n",
    "arq = eval(open(\"./lista\").read())\n",
    "\n",
    "print(arq)\n"
   ]
  },
  {
   "cell_type": "markdown",
   "metadata": {},
   "source": [
    "# O módulo SYS"
   ]
  },
  {
   "cell_type": "code",
   "execution_count": null,
   "metadata": {},
   "outputs": [],
   "source": [
    "import sys\n",
    "\n",
    "# argv é a lista de argumentos da linha de comando passados como entrada...\n",
    "# argc em Python é simplesmente o comprimento de argv\n",
    "\n",
    "\n",
    "# Fazer o exercício de \"sacramentocrimeJanuary2006.csv\" (vê slides)\n",
    "\n"
   ]
  }
 ],
 "metadata": {
  "kernelspec": {
   "display_name": "Python 3",
   "language": "python",
   "name": "python3"
  },
  "language_info": {
   "codemirror_mode": {
    "name": "ipython",
    "version": 3
   },
   "file_extension": ".py",
   "mimetype": "text/x-python",
   "name": "python",
   "nbconvert_exporter": "python",
   "pygments_lexer": "ipython3",
   "version": "3.6.4"
  }
 },
 "nbformat": 4,
 "nbformat_minor": 2
}
