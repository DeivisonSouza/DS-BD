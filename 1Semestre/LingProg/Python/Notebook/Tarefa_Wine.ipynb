{
 "cells": [
  {
   "cell_type": "markdown",
   "metadata": {},
   "source": [
    "# Avaliação 1 - Python"
   ]
  },
  {
   "cell_type": "markdown",
   "metadata": {},
   "source": [
    "Criar um programa em linha de comando que:\n",
    "\n",
    "1. receba como argumentos dois arquivos de entrada e um de saída\n",
    "\n",
    "2. leia os arquivos de entrada e os concatene, adicionando um rótulo ao final de cada linha\n",
    "\n",
    "3. salve o conteúdo gerado no item anterior (2) no arquivo passado como saída, com apenas 1 cabeçalho\n",
    "\n",
    "4. calcule a média da última coluna (antes do rótulo) para os dois rótulos separadamente e para ambos em conjunto\n",
    "\n",
    "5. imprima a média no seguinte formato:\n",
    "\n",
    " rótulo | qualidade média\n",
    "\n",
    " label1 | valor\n",
    "\n",
    " label2 | valor\n",
    "\n",
    " ambas  | valor\n",
    "\n",
    "- SUBMETER UM ARQUIVO .py\n",
    "\n",
    "- Os testes serão feitos com os arquivos de vinhos como entrada"
   ]
  },
  {
   "cell_type": "markdown",
   "metadata": {},
   "source": [
    "# USANDO O NUMPY"
   ]
  },
  {
   "cell_type": "markdown",
   "metadata": {},
   "source": [
    "## 1) Ler conjunto de dados (usando a função np.loadtxt)\n",
    "### a) Red-Wine"
   ]
  },
  {
   "cell_type": "code",
   "execution_count": 2,
   "metadata": {},
   "outputs": [
    {
     "name": "stdout",
     "output_type": "stream",
     "text": [
      "[[ 7.4    0.7    0.    ...  0.56   9.4    5.   ]\n",
      " [ 7.8    0.88   0.    ...  0.68   9.8    5.   ]\n",
      " [ 7.8    0.76   0.04  ...  0.65   9.8    5.   ]\n",
      " ...\n",
      " [ 6.3    0.51   0.13  ...  0.75  11.     6.   ]\n",
      " [ 5.9    0.645  0.12  ...  0.71  10.2    5.   ]\n",
      " [ 6.     0.31   0.47  ...  0.66  11.     6.   ]]\n",
      "<class 'numpy.ndarray'>\n",
      "float64\n",
      "(1599, 12)\n"
     ]
    }
   ],
   "source": [
    "import numpy as np\n",
    "\n",
    "dat1 = np.loadtxt('winequality-red.csv', skiprows=1, delimiter=\";\")  #skiprows=1 (pular primeira linha)\n",
    "print(dat1)\n",
    "print(type(dat1))\n",
    "print(dat1.dtype.name)\n",
    "print(dat1.shape)"
   ]
  },
  {
   "cell_type": "markdown",
   "metadata": {},
   "source": [
    "### b) White-Wine"
   ]
  },
  {
   "cell_type": "code",
   "execution_count": 2,
   "metadata": {},
   "outputs": [
    {
     "name": "stdout",
     "output_type": "stream",
     "text": [
      "[[ 7.    0.27  0.36 ...  0.45  8.8   6.  ]\n",
      " [ 6.3   0.3   0.34 ...  0.49  9.5   6.  ]\n",
      " [ 8.1   0.28  0.4  ...  0.44 10.1   6.  ]\n",
      " ...\n",
      " [ 6.5   0.24  0.19 ...  0.46  9.4   6.  ]\n",
      " [ 5.5   0.29  0.3  ...  0.38 12.8   7.  ]\n",
      " [ 6.    0.21  0.38 ...  0.32 11.8   6.  ]]\n",
      "<class 'numpy.ndarray'>\n",
      "float64\n",
      "(4898, 12)\n"
     ]
    }
   ],
   "source": [
    "import numpy as np\n",
    "\n",
    "dat2 = np.loadtxt('winequality-white.csv', skiprows=1, delimiter=\";\")\n",
    "print(dat2)\n",
    "print(type(dat2))\n",
    "print(dat2.dtype.name)\n",
    "print(dat2.shape)"
   ]
  },
  {
   "cell_type": "markdown",
   "metadata": {},
   "source": [
    "# 2) Concatena os conjuntos de dados"
   ]
  },
  {
   "cell_type": "code",
   "execution_count": 5,
   "metadata": {
    "scrolled": true
   },
   "outputs": [
    {
     "name": "stdout",
     "output_type": "stream",
     "text": [
      "[[ 7.4   0.7   0.   ...  0.56  9.4   5.  ]\n",
      " [ 7.8   0.88  0.   ...  0.68  9.8   5.  ]\n",
      " [ 7.8   0.76  0.04 ...  0.65  9.8   5.  ]\n",
      " ...\n",
      " [ 6.5   0.24  0.19 ...  0.46  9.4   6.  ]\n",
      " [ 5.5   0.29  0.3  ...  0.38 12.8   7.  ]\n",
      " [ 6.    0.21  0.38 ...  0.32 11.8   6.  ]]\n",
      "(6497, 12)\n"
     ]
    }
   ],
   "source": [
    "alldata = np.append(dat1,dat2, axis=0)\n",
    "print(alldata)\n",
    "print(alldata.shape)"
   ]
  },
  {
   "cell_type": "markdown",
   "metadata": {},
   "source": [
    "# Cria um array com labels 1 e 2 com comprimentos de shape[1]"
   ]
  },
  {
   "cell_type": "code",
   "execution_count": 8,
   "metadata": {},
   "outputs": [
    {
     "name": "stdout",
     "output_type": "stream",
     "text": [
      "(6497, 1)\n",
      "[[1]\n",
      " [1]\n",
      " [1]\n",
      " ...\n",
      " [2]\n",
      " [2]\n",
      " [2]]\n"
     ]
    }
   ],
   "source": [
    "labels = np.append(np.repeat(1, dat1.shape[0]), np.repeat(2, dat2.shape[0]))\n",
    "labels = np.array(labels).reshape((alldata.shape[0],1))   #Retorna uma matriz contendo os mesmos dados com uma nova forma.\n",
    "print(labels.shape)\n",
    "print(labels)"
   ]
  },
  {
   "cell_type": "markdown",
   "metadata": {},
   "source": [
    "# Faz um append dos labels ao conjunto concatenado"
   ]
  },
  {
   "cell_type": "code",
   "execution_count": 9,
   "metadata": {},
   "outputs": [
    {
     "name": "stdout",
     "output_type": "stream",
     "text": [
      "<class 'numpy.ndarray'>\n",
      "(6497, 13)\n"
     ]
    }
   ],
   "source": [
    "finaldata = np.append(alldata, labels, axis=1)\n",
    "print(type(finaldata))\n",
    "print(finaldata.shape)\n",
    "\n",
    "#np.savetxt(\"finaldata.csv\", finaldata, delimiter=\",\")\n",
    "#np.concatenate((alldata, labels),axis=1)\n",
    "#np.append(alldata, labels, axis=1)"
   ]
  },
  {
   "cell_type": "code",
   "execution_count": 6,
   "metadata": {},
   "outputs": [
    {
     "data": {
      "text/plain": [
       "array([[5., 1.],\n",
       "       [5., 1.],\n",
       "       [5., 1.],\n",
       "       ...,\n",
       "       [6., 2.],\n",
       "       [7., 2.],\n",
       "       [6., 2.]])"
      ]
     },
     "execution_count": 6,
     "metadata": {},
     "output_type": "execute_result"
    }
   ],
   "source": [
    "finaldata[:,(11,12)]               # as colunas: quality e labels..."
   ]
  },
  {
   "cell_type": "markdown",
   "metadata": {},
   "source": [
    "# Adiciona um cabeçalho e salva em um novo arquivo..."
   ]
  },
  {
   "cell_type": "code",
   "execution_count": 54,
   "metadata": {},
   "outputs": [
    {
     "name": "stdout",
     "output_type": "stream",
     "text": [
      "<class 'str'>\n",
      "\"fixed acidity\";\"volatile acidity\";\"citric acid\";\"residual sugar\";\"chlorides\";\"free sulfur dioxide\";\"total sulfur dioxide\";\"density\";\"pH\";\"sulphates\";\"alcohol\";\"quality\";labels\n"
     ]
    }
   ],
   "source": [
    "import numpy\n",
    "#r = reader (apenas lê o arquivo). \n",
    "#readline = lê uma única linha do arquivo.\n",
    "# rstrip = remove espaço final da linha \n",
    "cabecalho = open('winequality-white.csv', 'r',encoding='UTF8').readline().rstrip() + str(\";labels\")\n",
    "\n",
    "print(type(cabecalho))\n",
    "print(cabecalho)\n",
    "\n",
    "fmt = \";\".join([\"%10.6e\"]* (finaldata.shape[1]))\n",
    "numpy.savetxt(\"finaldata.csv\", finaldata, fmt=fmt, header=cabecalho, comments='')"
   ]
  },
  {
   "cell_type": "markdown",
   "metadata": {},
   "source": [
    "# Ler arquivo \"finaldata\" com cabeçalho"
   ]
  },
  {
   "cell_type": "code",
   "execution_count": 10,
   "metadata": {},
   "outputs": [
    {
     "name": "stdout",
     "output_type": "stream",
     "text": [
      "<class 'numpy.ndarray'>\n",
      "void832\n",
      "(6497,)\n",
      "[('FIXED_ACIDITY', '<f8'), ('VOLATILE_ACIDITY', '<f8'), ('CITRIC_ACID', '<f8'), ('RESIDUAL_SUGAR', '<f8'), ('CHLORIDES', '<f8'), ('FREE_SULFUR_DIOXIDE', '<f8'), ('TOTAL_SULFUR_DIOXIDE', '<f8'), ('DENSITY', '<f8'), ('PH', '<f8'), ('SULPHATES', '<f8'), ('ALCOHOL', '<f8'), ('QUALITY', '<f8'), ('LABELS', '<f8')]\n",
      "[(7.4, 0.7 , 0.  , 1.9, 0.076, 11.,  34., 0.9978 , 3.51, 0.56,  9.4, 5., 1.)\n",
      " (7.8, 0.88, 0.  , 2.6, 0.098, 25.,  67., 0.9968 , 3.2 , 0.68,  9.8, 5., 1.)\n",
      " (7.8, 0.76, 0.04, 2.3, 0.092, 15.,  54., 0.997  , 3.26, 0.65,  9.8, 5., 1.)\n",
      " ...\n",
      " (6.5, 0.24, 0.19, 1.2, 0.041, 30., 111., 0.99254, 2.99, 0.46,  9.4, 6., 2.)\n",
      " (5.5, 0.29, 0.3 , 1.1, 0.022, 20., 110., 0.98869, 3.34, 0.38, 12.8, 7., 2.)\n",
      " (6. , 0.21, 0.38, 0.8, 0.02 , 22.,  98., 0.98941, 3.26, 0.32, 11.8, 6., 2.)]\n"
     ]
    }
   ],
   "source": [
    "import numpy as np\n",
    "\n",
    "data = np.genfromtxt(\"finaldata.csv\", delimiter=\";\", names = True, skip_header=0, case_sensitive='upper', dtype=None)\n",
    "print(type(data))\n",
    "print(data.dtype.name)\n",
    "print(data.shape)\n",
    "print(data.dtype)\n",
    "print(data)"
   ]
  },
  {
   "cell_type": "markdown",
   "metadata": {},
   "source": [
    "# Estatísticas descritiva"
   ]
  },
  {
   "cell_type": "markdown",
   "metadata": {},
   "source": [
    "##### i) Média aritmética p/ variável \"quality\" (red-wine )"
   ]
  },
  {
   "cell_type": "code",
   "execution_count": 133,
   "metadata": {},
   "outputs": [
    {
     "name": "stdout",
     "output_type": "stream",
     "text": [
      "A média aritmética para a variável *QUALITY* no conjunto red-wine é:\n"
     ]
    },
    {
     "data": {
      "text/plain": [
       "5.6360225140712945"
      ]
     },
     "execution_count": 133,
     "metadata": {},
     "output_type": "execute_result"
    }
   ],
   "source": [
    "print(\"A média aritmética para a variável *QUALITY* no conjunto red-wine é:\")\n",
    "data[data['LABELS']==1]['QUALITY'].mean()"
   ]
  },
  {
   "cell_type": "markdown",
   "metadata": {},
   "source": [
    "##### ii) Média aritmética p/ variável \"quality\" (white-wine )"
   ]
  },
  {
   "cell_type": "code",
   "execution_count": 134,
   "metadata": {},
   "outputs": [
    {
     "name": "stdout",
     "output_type": "stream",
     "text": [
      "A média aritmética para a variável *QUALITY* no conjunto white-wine é:\n"
     ]
    },
    {
     "data": {
      "text/plain": [
       "5.87790935075541"
      ]
     },
     "execution_count": 134,
     "metadata": {},
     "output_type": "execute_result"
    }
   ],
   "source": [
    "print(\"A média aritmética para a variável *QUALITY* no conjunto white-wine é:\")\n",
    "data[data['LABELS']==2]['QUALITY'].mean()"
   ]
  },
  {
   "cell_type": "markdown",
   "metadata": {},
   "source": [
    "##### iii) Média aritmética geral p/ variável \"quality\" (red + white)"
   ]
  },
  {
   "cell_type": "code",
   "execution_count": 132,
   "metadata": {},
   "outputs": [
    {
     "name": "stdout",
     "output_type": "stream",
     "text": [
      "A média aritmética para a variável *QUALITY* para os conjuntos unidos é:\n"
     ]
    },
    {
     "data": {
      "text/plain": [
       "5.818377712790519"
      ]
     },
     "execution_count": 132,
     "metadata": {},
     "output_type": "execute_result"
    }
   ],
   "source": [
    "print(\"A média aritmética para a variável *QUALITY* para os conjuntos unidos é:\")\n",
    "data['QUALITY'].mean()"
   ]
  },
  {
   "cell_type": "markdown",
   "metadata": {},
   "source": [
    "# Resumo em um dicionário"
   ]
  },
  {
   "cell_type": "code",
   "execution_count": 187,
   "metadata": {},
   "outputs": [
    {
     "name": "stdout",
     "output_type": "stream",
     "text": [
      "As médias aritméticas para a variável *QUALITY* são:\n",
      "{'red-wine': 5.6360225140712945, 'white-wine': 5.87790935075541, 'all': 5.818377712790519}\n"
     ]
    }
   ],
   "source": [
    "print(\"As médias aritméticas para a variável *QUALITY* são:\")\n",
    "media = {'red-wine': data[data['LABELS']==1]['QUALITY'].mean(),\n",
    "         'white-wine':data[data['LABELS']==2]['QUALITY'].mean(), \n",
    "         'all': data['QUALITY'].mean()}\n",
    "print(media)"
   ]
  },
  {
   "cell_type": "markdown",
   "metadata": {},
   "source": [
    "# Resumo: uma solução com Pandas"
   ]
  },
  {
   "cell_type": "code",
   "execution_count": 54,
   "metadata": {},
   "outputs": [
    {
     "data": {
      "text/html": [
       "<div>\n",
       "<style scoped>\n",
       "    .dataframe tbody tr th:only-of-type {\n",
       "        vertical-align: middle;\n",
       "    }\n",
       "\n",
       "    .dataframe tbody tr th {\n",
       "        vertical-align: top;\n",
       "    }\n",
       "\n",
       "    .dataframe thead th {\n",
       "        text-align: right;\n",
       "    }\n",
       "</style>\n",
       "<table border=\"1\" class=\"dataframe\">\n",
       "  <thead>\n",
       "    <tr style=\"text-align: right;\">\n",
       "      <th></th>\n",
       "      <th>LABELS</th>\n",
       "      <th>len_QUALITY</th>\n",
       "      <th>min_QUALITY</th>\n",
       "      <th>max_QUALITY</th>\n",
       "      <th>sum_QUALITY</th>\n",
       "      <th>mean_QUALITY</th>\n",
       "      <th>std_QUALITY</th>\n",
       "      <th>var_QUALITY</th>\n",
       "    </tr>\n",
       "  </thead>\n",
       "  <tbody>\n",
       "    <tr>\n",
       "      <th>0</th>\n",
       "      <td>1</td>\n",
       "      <td>1599.0</td>\n",
       "      <td>3.0</td>\n",
       "      <td>8.0</td>\n",
       "      <td>9012.0</td>\n",
       "      <td>5.636023</td>\n",
       "      <td>0.807569</td>\n",
       "      <td>0.652168</td>\n",
       "    </tr>\n",
       "    <tr>\n",
       "      <th>1</th>\n",
       "      <td>2</td>\n",
       "      <td>4898.0</td>\n",
       "      <td>3.0</td>\n",
       "      <td>9.0</td>\n",
       "      <td>28790.0</td>\n",
       "      <td>5.877909</td>\n",
       "      <td>0.885639</td>\n",
       "      <td>0.784356</td>\n",
       "    </tr>\n",
       "    <tr>\n",
       "      <th>2</th>\n",
       "      <td>Total</td>\n",
       "      <td>6497.0</td>\n",
       "      <td>3.0</td>\n",
       "      <td>9.0</td>\n",
       "      <td>37802.0</td>\n",
       "      <td>5.818378</td>\n",
       "      <td>0.873188</td>\n",
       "      <td>0.762457</td>\n",
       "    </tr>\n",
       "  </tbody>\n",
       "</table>\n",
       "</div>"
      ],
      "text/plain": [
       "  LABELS  len_QUALITY  min_QUALITY  max_QUALITY  sum_QUALITY  mean_QUALITY  \\\n",
       "0      1       1599.0          3.0          8.0       9012.0      5.636023   \n",
       "1      2       4898.0          3.0          9.0      28790.0      5.877909   \n",
       "2  Total       6497.0          3.0          9.0      37802.0      5.818378   \n",
       "\n",
       "   std_QUALITY  var_QUALITY  \n",
       "0     0.807569     0.652168  \n",
       "1     0.885639     0.784356  \n",
       "2     0.873188     0.762457  "
      ]
     },
     "execution_count": 54,
     "metadata": {},
     "output_type": "execute_result"
    }
   ],
   "source": [
    "import pandas as pd\n",
    "\n",
    "DATA = pd.DataFrame(data)\n",
    "\n",
    "table = DATA.pivot_table(index='LABELS', values = \"QUALITY\", \n",
    "                aggfunc = [len, min, max, np.sum, np.mean, np.std, np.var],\n",
    "                margins=True, margins_name='Total')\n",
    "\n",
    "table.columns = ['_'.join(str(s).strip() for s in col if s) for col in table.columns]\n",
    "\n",
    "table.reset_index()\n"
   ]
  },
  {
   "cell_type": "code",
   "execution_count": 53,
   "metadata": {
    "scrolled": true
   },
   "outputs": [
    {
     "data": {
      "text/html": [
       "<div>\n",
       "<style scoped>\n",
       "    .dataframe tbody tr th:only-of-type {\n",
       "        vertical-align: middle;\n",
       "    }\n",
       "\n",
       "    .dataframe tbody tr th {\n",
       "        vertical-align: top;\n",
       "    }\n",
       "\n",
       "    .dataframe thead th {\n",
       "        text-align: right;\n",
       "    }\n",
       "</style>\n",
       "<table border=\"1\" class=\"dataframe\">\n",
       "  <thead>\n",
       "    <tr style=\"text-align: right;\">\n",
       "      <th>LABELS</th>\n",
       "      <th>1.0</th>\n",
       "      <th>2.0</th>\n",
       "    </tr>\n",
       "  </thead>\n",
       "  <tbody>\n",
       "    <tr>\n",
       "      <th>QUALITY</th>\n",
       "      <td>5.636023</td>\n",
       "      <td>5.877909</td>\n",
       "    </tr>\n",
       "  </tbody>\n",
       "</table>\n",
       "</div>"
      ],
      "text/plain": [
       "LABELS        1.0       2.0\n",
       "QUALITY  5.636023  5.877909"
      ]
     },
     "execution_count": 53,
     "metadata": {},
     "output_type": "execute_result"
    }
   ],
   "source": [
    "pivoted = DATA.pivot_table(columns='LABELS',values='QUALITY')\n",
    "pivoted"
   ]
  }
 ],
 "metadata": {
  "kernelspec": {
   "display_name": "Python 3",
   "language": "python",
   "name": "python3"
  },
  "language_info": {
   "codemirror_mode": {
    "name": "ipython",
    "version": 3
   },
   "file_extension": ".py",
   "mimetype": "text/x-python",
   "name": "python",
   "nbconvert_exporter": "python",
   "pygments_lexer": "ipython3",
   "version": "3.6.4"
  }
 },
 "nbformat": 4,
 "nbformat_minor": 2
}
